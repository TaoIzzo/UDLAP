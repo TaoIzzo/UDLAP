{
 "cells": [
  {
   "cell_type": "markdown",
   "metadata": {},
   "source": [
    "# búsqueda lineal o secuencial\n",
    "\n",
    "## Ejerccicio 1\n"
   ]
  },
  {
   "cell_type": "markdown",
   "metadata": {},
   "source": [
    "A continuacion se dearrollara un codigo secuencia dividido en tres, una donde se definira la lista, otra donde se ejecutara el mensaje junto con la instruccion al usuario de digitar el codigo y la tercera, donde habra dos opciones, una en la cual por medio de la busqueda imprimira si se encuntra o no el numero ingresado en la lista junto con su indice, mientras que en la otra opcion solo nos confirmara si se encunetra o no el numero en la lista "
   ]
  },
  {
   "cell_type": "code",
   "execution_count": 1,
   "metadata": {},
   "outputs": [
    {
     "data": {
      "text/plain": [
       "[11, 7, 3, 19, 4, 18, 5, 12, 10, 6, 17, 15]"
      ]
     },
     "execution_count": 1,
     "metadata": {},
     "output_type": "execute_result"
    }
   ],
   "source": [
    "#Defincion de lista\n",
    "lista = [11,7,3,19,4,18,5,12,10,6,17,15]\n",
    "lista"
   ]
  },
  {
   "cell_type": "code",
   "execution_count": 2,
   "metadata": {},
   "outputs": [
    {
     "name": "stdout",
     "output_type": "stream",
     "text": [
      "digite un numero del 0 al 20 y verifique si se encuntra en la lista\n",
      "14\n"
     ]
    },
    {
     "data": {
      "text/plain": [
       "int"
      ]
     },
     "execution_count": 2,
     "metadata": {},
     "output_type": "execute_result"
    }
   ],
   "source": [
    "#imprimimos la instruccion al usuario\n",
    "print(\"digite un numero del 0 al 20 y verifique si se encuntra en la lista\")\n",
    "# se guarda el numero insertado en la variable y se transformamos a integer haciendo un casting de String a Integer\n",
    "number=int(input())\n",
    "type(number)"
   ]
  },
  {
   "cell_type": "code",
   "execution_count": 3,
   "metadata": {},
   "outputs": [
    {
     "name": "stdout",
     "output_type": "stream",
     "text": [
      "el numero buscado no se encuntra en la lista por lo que se adjuntara al final\n"
     ]
    }
   ],
   "source": [
    "# Opcion 1\n",
    "for i in range(len(lista)):\n",
    "    if (lista[i] == number):\n",
    "        print(\"el numero buscado esta en la lista, en el indice \"+str(i)) #Se hace un casting de integer a string\n",
    "        break \n",
    "        '''se usa el break para que no se ejecute el else, es decir para romper el bucle, a difernecia de otros lenguajes\n",
    "        como Java aqui el if else usan break porque tienen una funcion semejante a do while que en python no exixte'''\n",
    "else:\n",
    "    print(\"el numero buscado no se encuntra en la lista por lo que se adjuntara al final\")\n",
    "    lista.append(number)"
   ]
  },
  {
   "cell_type": "markdown",
   "metadata": {},
   "source": [
    "Si ya se ejecuto la opcion 1 no es necesario ejecutar la opcion 2, ya que si en el anterior no se encontraba el numero ahora si estara dentro de la lista, por lo que de una u otra forma la opcion dos siemmpre sera verdadera si se ejecuta todo el codigo \n"
   ]
  },
  {
   "cell_type": "code",
   "execution_count": 14,
   "metadata": {},
   "outputs": [
    {
     "name": "stdout",
     "output_type": "stream",
     "text": [
      "el numero buscado esta en la lista\n"
     ]
    }
   ],
   "source": [
    "#Opcion 2\n",
    "print(\"el numero buscado esta en la lista\" if number in lista else \"no se encontro el numero en la lista por lo que se adjuntara al final\")"
   ]
  },
  {
   "cell_type": "markdown",
   "metadata": {},
   "source": [
    "La complejidad de la opcion 1 es O(n) debido a los for mientras que la complejidad de la opcion 2 es O(n) por usar la operacion in (number in ista) que se encuntra en el if, el cual es el peor de los casos ya que el else solo imprime una linea\n",
    "\n",
    "La diferencia primordial entre las dos opciones es que la primera nos confirmara y nos dara el indice meintars que en la otra solo nos confirmaria o negaria sin añadir el elemnto, ambos posen la misma complejidad porque el for esta implicitamente en number in "
   ]
  },
  {
   "cell_type": "markdown",
   "metadata": {},
   "source": [
    "## Ejercicio 2 Busqueda binaria"
   ]
  },
  {
   "cell_type": "markdown",
   "metadata": {},
   "source": [
    "La diferencia con respecto a la busqueda anterior es que aqui la lista debera de estar ordenada previamanete a la busqueda de un numero dentro de ella y sera una busqueda binaria"
   ]
  },
  {
   "cell_type": "code",
   "execution_count": 5,
   "metadata": {},
   "outputs": [],
   "source": [
    "lista.sort() #funcion de ordenamiento en el paquete de python sin librerias con complejidad O(n log n)"
   ]
  },
  {
   "cell_type": "code",
   "execution_count": 6,
   "metadata": {},
   "outputs": [
    {
     "name": "stdout",
     "output_type": "stream",
     "text": [
      "[3, 4, 5, 6, 7, 10, 11, 12, 14, 15, 17, 18, 19]\n"
     ]
    }
   ],
   "source": [
    "print(lista)\n"
   ]
  },
  {
   "cell_type": "code",
   "execution_count": 55,
   "metadata": {},
   "outputs": [
    {
     "name": "stdout",
     "output_type": "stream",
     "text": [
      "Una vez buscado el digito se ordenara la lista de forma ascendente, ordenando el digito introducido en caso de que no haya estado en la lista previamente\n",
      "el numero introducido ahora se encuntra en el indice 8\n"
     ]
    }
   ],
   "source": [
    "print(\"Una vez buscado el digito se ordenara la lista de forma ascendente, ordenando el digito introducido en caso de que no haya estado en la lista previamente\")\n",
    "def busquedabinaria(lista,number):\n",
    "    start=0\n",
    "    end=len(lista)-1\n",
    "    while(start<=end):\n",
    "        point=int((start+end)/2)\n",
    "        if (lista[point]==number):\n",
    "            return point\n",
    "        elif (number>lista[point]):\n",
    "            start=point+1\n",
    "        else:\n",
    "            end=point-1\n",
    "    return False\n",
    "print(\"el numero introducido ahora se encuntra en el indice \"+str(busquedabinaria(lista,number)))\n",
    "\n"
   ]
  },
  {
   "cell_type": "markdown",
   "metadata": {},
   "source": [
    "La complejidad del codigo anterior seria O( n2 log n)"
   ]
  },
  {
   "cell_type": "markdown",
   "metadata": {},
   "source": [
    "# Ejercicio 3 Quick sort"
   ]
  },
  {
   "cell_type": "code",
   "execution_count": 63,
   "metadata": {},
   "outputs": [],
   "source": [
    "lista = [11,7,3,19,4,18,5,12,10,6,17,15]"
   ]
  },
  {
   "cell_type": "code",
   "execution_count": 64,
   "metadata": {},
   "outputs": [
    {
     "name": "stdout",
     "output_type": "stream",
     "text": [
      "Original list: \n",
      "[11, 7, 3, 19, 4, 18, 5, 12, 10, 6, 17, 15]\n",
      "Sorted list: \n",
      "[3, 4, 5, 6, 7, 10, 11, 12, 15, 17, 18, 19]\n"
     ]
    }
   ],
   "source": [
    "def quick_sort(items, low, high):\n",
    "  if low < high:\n",
    "      p_index = partition(items, low, high)\n",
    "      quick_sort(items, low, p_index - 1)\n",
    "      quick_sort(items, p_index + 1, high)\n",
    "\n",
    "def partition(items, low, high):\n",
    "  pivot = items[high]\n",
    "  i = low\n",
    "  for j in range(low, high):\n",
    "      if items[j] < pivot:\n",
    "          items[i], items[j] = items[j], items[i]\n",
    "          i += 1\n",
    "  pivot_index = i\n",
    "  items[pivot_index], items[high] = items[high], items[pivot_index]\n",
    "  return pivot_index\n",
    "\n",
    "def test_quick_sort():\n",
    "  low = 0\n",
    "  high = len(lista) - 1\n",
    "  print(\"Original list: \")\n",
    "  print(lista)\n",
    "  quick_sort(lista, low, high)\n",
    "  print(\"Sorted list: \")\n",
    "  print(lista)\n",
    "\n",
    "test_quick_sort()\n",
    "    "
   ]
  },
  {
   "cell_type": "markdown",
   "metadata": {},
   "source": [
    "La complejidad logarirmica del quicksort es (n log n)"
   ]
  },
  {
   "cell_type": "markdown",
   "metadata": {},
   "source": [
    "Para el quicksort si consulte varias paginas, la complejidad de crear este algoritmo desde cero si sobre pasa mis habilidades de pensamiento y logica para ser honesto. Fue desarrollado por Charles Antony Richard Hoare en 1960 \n",
    "https://gpalma.github.io/courses/ci2692em20/Proyecto1CI2692em20.pdf\n",
    "https://bitcu.co/metodos-de-ordenamiento/\n",
    "http://www.mis-algoritmos.com/ordenamiento-rapido-quicksort\n",
    "https://www.geeksforgeeks.org/python-program-for-iterative-quick-sort/\n",
    "https://frrq.cvg.utn.edu.ar/pluginfile.php/13740/mod_resource/content/0/Apunte%20Tecnicas%20de%20Programacion%20v%201.1.pdf\n",
    "https://careerkarma.com/blog/python-quick-sort/\n",
    "https://pereiratechtalks.com/analisis-de-algoritmos-de-ordenamiento/\n",
    "https://www.slideshare.net/PatriciaCorrea6/metodo-quicksort\n",
    "https://www2.infor.uva.es/~jvalvarez/docencia/tema5.pdf"
   ]
  },
  {
   "cell_type": "markdown",
   "metadata": {},
   "source": [
    "Feunte principal consultada para las complejidades https://wiki.python.org/moin/TimeComplexity"
   ]
  }
 ],
 "metadata": {
  "kernelspec": {
   "display_name": "Python 3 (ipykernel)",
   "language": "python",
   "name": "python3"
  },
  "language_info": {
   "codemirror_mode": {
    "name": "ipython",
    "version": 3
   },
   "file_extension": ".py",
   "mimetype": "text/x-python",
   "name": "python",
   "nbconvert_exporter": "python",
   "pygments_lexer": "ipython3",
   "version": "3.11.2"
  },
  "varInspector": {
   "cols": {
    "lenName": 16,
    "lenType": 16,
    "lenVar": 40
   },
   "kernels_config": {
    "python": {
     "delete_cmd_postfix": "",
     "delete_cmd_prefix": "del ",
     "library": "var_list.py",
     "varRefreshCmd": "print(var_dic_list())"
    },
    "r": {
     "delete_cmd_postfix": ") ",
     "delete_cmd_prefix": "rm(",
     "library": "var_list.r",
     "varRefreshCmd": "cat(var_dic_list()) "
    }
   },
   "types_to_exclude": [
    "module",
    "function",
    "builtin_function_or_method",
    "instance",
    "_Feature"
   ],
   "window_display": false
  }
 },
 "nbformat": 4,
 "nbformat_minor": 4
}
