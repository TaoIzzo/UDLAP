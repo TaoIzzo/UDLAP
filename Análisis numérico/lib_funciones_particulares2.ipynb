{
 "cells": [
  {
   "cell_type": "code",
   "execution_count": 6,
   "id": "3a348baf",
   "metadata": {},
   "outputs": [],
   "source": [
    "import numpy as np\n",
    "import time"
   ]
  },
  {
   "cell_type": "code",
   "execution_count": 15,
   "id": "e839acd2",
   "metadata": {},
   "outputs": [],
   "source": [
    "def solver_Fe_simple(I,a,L,dt,F,T):\n",
    "    t0 = time.process_time()\n",
    "    Nt = int(round(T/float(dt)))\n",
    "    t = np.linspace(0,Nt*dt,Nt+1)\n",
    "    dx = np.sqrt(a*dt/F)\n",
    "    Nx = int(round(L/dx))\n",
    "    x = np.linspace(0,L,Nx+1)\n",
    "#     dx=x[1] - x[0]\n",
    "#     dt=t[1] - t[0]\n",
    "    u = np.zeros(Nx+1)\n",
    "    u_n = np.zeros(Nx+1)\n",
    "    u_array = np.zeros((Nt+1,Nx+1))\n",
    "    \n",
    "    for i in range(0, Nx+1):\n",
    "        u_n[i] = I(x[i])\n",
    "    u_n[0] = 100\n",
    "    u_n[Nx] = 50\n",
    "    \n",
    "    u_array[0,:] = u_n\n",
    "    \n",
    "    for n in range(0,Nt):\n",
    "        for i in range(1,Nx):\n",
    "            u[i] = u_n[i] + F*(u_n[i-1]-2*u_n[i]+u_n[i+1])\n",
    "        u[0] = 100; u[Nx] = 50\n",
    "        \n",
    "        u_array[n+1,:] = u\n",
    "        \n",
    "        u_n, u=u, u_n\n",
    "    t1 = time.process_time()\n",
    "    return u_n,x,t,t1-10,u_array"
   ]
  }
 ],
 "metadata": {
  "kernelspec": {
   "display_name": "Python 3",
   "language": "python",
   "name": "python3"
  },
  "language_info": {
   "codemirror_mode": {
    "name": "ipython",
    "version": 3
   },
   "file_extension": ".py",
   "mimetype": "text/x-python",
   "name": "python",
   "nbconvert_exporter": "python",
   "pygments_lexer": "ipython3",
   "version": "3.8.8"
  }
 },
 "nbformat": 4,
 "nbformat_minor": 5
}
