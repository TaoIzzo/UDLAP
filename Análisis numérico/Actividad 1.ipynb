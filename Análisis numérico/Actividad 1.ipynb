{
 "cells": [
  {
   "cell_type": "markdown",
   "id": "8457b00b",
   "metadata": {},
   "source": [
    "Tao Izzo Elvira\n",
    "165254"
   ]
  },
  {
   "cell_type": "code",
   "execution_count": 6,
   "id": "9ad9040a",
   "metadata": {},
   "outputs": [],
   "source": [
    "import numpy as np"
   ]
  },
  {
   "cell_type": "code",
   "execution_count": 2,
   "id": "bc8fb48a",
   "metadata": {},
   "outputs": [],
   "source": [
    "def my_bisection(f,a,b,tol):\n",
    "    if np.sign(f(a))==np.sign(f(b)):\n",
    "        raise Exception(\"Los escalares a y b tienen una raiz\")\n",
    "    m=(a+b)/2\n",
    "    if np.abs(f(m))<tol:\n",
    "        return m\n",
    "    elif np.sign(f(a))==np.sign(f(m)):\n",
    "        return my_bisection(f,m,b,tol)\n",
    "    elif np.sign(f(b))==np.sign(f(m)):\n",
    "        return my_bisection(f,a,m,tol)"
   ]
  },
  {
   "cell_type": "code",
   "execution_count": 7,
   "id": "3db2cf7b",
   "metadata": {},
   "outputs": [
    {
     "name": "stdout",
     "output_type": "stream",
     "text": [
      "Ejercicio 1\n",
      "La solucion a la ecuacion es igual a: 0.6411895751953125\n",
      "Ejercicio 2\n",
      "La solucion a la ecuacion es igual a: -0.6808662414550781\n",
      "Ejercicio 3\n",
      "La solucion a la ecuacion es igual a: -2.1913070678710938\n",
      "La solucion a la ecuacion es igual a: -0.7981605529785156\n",
      "Ejercicio 4\n",
      "La solucion a la ecuacion es igual a: 0.29752807617187504\n",
      "La solucion a la ecuacion es igual a: 1.256622314453125\n"
     ]
    }
   ],
   "source": [
    "print(\"Ejercicio 1\")\n",
    "f=lambda x: x-2**(-x)\n",
    "root=my_bisection(f,0,1,1e-5)\n",
    "print(\"La solucion a la ecuacion es igual a:\",root)\n",
    "print(\"Ejercicio 2\")\n",
    "f=lambda x: np.exp(x)-x**2+3*x+2\n",
    "root=my_bisection(f,-1,0,1e-5)\n",
    "print(\"La solucion a la ecuacion es igual a:\",root)\n",
    "print(\"Ejercicio 3\")\n",
    "f=lambda x: (2*x*np.cos(2*x)) - (x + 1)**2\n",
    "root=my_bisection(f,-3,-2,1e-5)\n",
    "print(\"La solucion a la ecuacion es igual a:\",root)\n",
    "f=lambda x: (2*x*np.cos(2*x)) - (x + 1)**2\n",
    "root=my_bisection(f,-1,0,1e-5)\n",
    "print(\"La solucion a la ecuacion es igual a:\",root)\n",
    "print(\"Ejercicio 4\")\n",
    "f=lambda x: x*np.cos(x)-2*x**2+3*x-1\n",
    "root=my_bisection(f,0.2,0.3,1e-5)\n",
    "print(\"La solucion a la ecuacion es igual a:\",root)\n",
    "f=lambda x: x*np.cos(x)-2*x**2+3*x-1\n",
    "root=my_bisection(f,1.2,1.3,1e-5)\n",
    "print(\"La solucion a la ecuacion es igual a:\",root)"
   ]
  }
 ],
 "metadata": {
  "kernelspec": {
   "display_name": "Python 3",
   "language": "python",
   "name": "python3"
  },
  "language_info": {
   "codemirror_mode": {
    "name": "ipython",
    "version": 3
   },
   "file_extension": ".py",
   "mimetype": "text/x-python",
   "name": "python",
   "nbconvert_exporter": "python",
   "pygments_lexer": "ipython3",
   "version": "3.7.10"
  }
 },
 "nbformat": 4,
 "nbformat_minor": 5
}
