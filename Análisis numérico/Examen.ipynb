{
 "cells": [
  {
   "cell_type": "code",
   "execution_count": 2,
   "id": "f0d7734f",
   "metadata": {},
   "outputs": [
    {
     "name": "stdout",
     "output_type": "stream",
     "text": [
      "El siguiente programa srive para resolver matrices cuadradas, favor de insertar su matriz y prrestar atencion a los mensajes\n",
      "Ingrese los valores de las filas , de izquierda a derecha, presione enter para pasar al siguiente valor:\n",
      "Ingrese los valores del vector constante: \n",
      "La matriz que ingreso es:\n",
      "[[1 2]\n",
      " [3 4]]\n",
      "B:\n",
      "[5 6]\n",
      "\n",
      "Tiene una unica solucion debido a que su determinante es diferente de cero \n",
      " -2.0\n",
      "La solucion es  [-4.   4.5]\n",
      "Matrix([[1, 0], [0, 1]])\n"
     ]
    }
   ],
   "source": [
    "import numpy as np\n",
    "from sympy import *\n",
    "import scipy.linalg as sc\n",
    "np.seterr(all='ignore')\n",
    "\n",
    "print(\"El siguiente programa srive para resolver matrices cuadradas, favor de insertar su matriz y prrestar atencion a los mensajes\")\n",
    "respuesta =str(input(\"Agregar matriz, si/no: \"))\n",
    "while respuesta == \"si\":  \n",
    "    matrizcuadrada = int(input(\"Ingrese el numero de filas/ columnas de la matriz:\"))  \n",
    "    matrix = []\n",
    "    print(\"Ingrese los valores de las filas , de izquierda a derecha, presione enter para pasar al siguiente valor:\")\n",
    "    for i in range(matrizcuadrada):          \n",
    "        a =[]\n",
    "        for j in range(matrizcuadrada):      \n",
    "             a.append(int(input()))\n",
    "        matrix.append(a)\n",
    "    \n",
    "    matrix_b = []\n",
    "    matrix_b = [0 for i in range(matrizcuadrada)]\n",
    "    print('Ingrese los valores del vector constante: ')\n",
    "    for i in range(0, matrizcuadrada):\n",
    "        matrix_b[i] = int(input())\n",
    "  \n",
    "    print(\"La matriz que ingreso es:\")\n",
    "    matrix = np.array(matrix)\n",
    "    print(matrix)\n",
    "    print(\"B:\")\n",
    "    b = np.array(matrix_b)\n",
    "    print(b)\n",
    "    val_0 = 0\n",
    "\n",
    "    for j in range(0, matrizcuadrada):\n",
    "        if matrix_b[j] == val_0:\n",
    "            print(\"No existe solucion porque se tiene como valor 0 en B\")\n",
    "            break\n",
    "        else:\n",
    "            detA = np.linalg.det(matrix)\n",
    "            P, L, U = sc.lu(matrix)\n",
    "            def forward_substitution(L, b):\n",
    "                try:\n",
    "                    n = L.shape[0]\n",
    "                    y = np.zeros_like(b, dtype=np.double);\n",
    "                    y[0] = b[0] / L[0, 0]\n",
    "\n",
    "                    for i in range(1, n):\n",
    "                        y[i] = (b[i] - np.dot(L[i, :i], y[:i])) / L[i, i]\n",
    "                    return y\n",
    "                except Exception as e:\n",
    "                    print('Ignoring Exception', e)\n",
    "\n",
    "\n",
    "            def back_substitution(U, y):\n",
    "                try:\n",
    "                    n = U.shape[0]\n",
    "                    x = np.zeros_like(y, dtype=np.double);\n",
    "                    x[-1] = y[-1] / U[-1, -1]\n",
    "\n",
    "                    for i in range(n - 2, -1, -1):\n",
    "                        x[i] = (y[i] - np.dot(U[i, i:], x[i:])) / U[i, i]\n",
    "                    return x\n",
    "                except Exception as e:\n",
    "                    print('Ignoring Exception', e)\n",
    "\n",
    "            transPb = np.transpose(P) @ b\n",
    "\n",
    "            y = forward_substitution(L, transPb)\n",
    "            x = back_substitution(U, y)\n",
    "    \n",
    "    if detA==0:\n",
    "        print(\"El sistema que ingreso no tiene o cuenta con infinitas soluciones\")\n",
    "        break\n",
    "    else:\n",
    "        print('\\nTiene una unica solucion debido a que su determinante es diferente de cero \\n', round(detA,2))\n",
    "        print(\"La solucion es \", x)\n",
    "    \n",
    "    \n",
    "    augmented_A = Matrix(matrix)\n",
    "\n",
    "    A_red_InfinitelyManySolutions = augmented_A.rref()[0]\n",
    "\n",
    "    print(A_red_InfinitelyManySolutions)\n",
    "\n",
    "\n",
    "    respuesta =str(input(\"Agregar articulo, si/no:\"))"
   ]
  },
  {
   "cell_type": "code",
   "execution_count": 3,
   "id": "ea830ce5",
   "metadata": {},
   "outputs": [
    {
     "data": {
      "text/plain": "sympy.matrices.dense.MutableDenseMatrix"
     },
     "execution_count": 3,
     "metadata": {},
     "output_type": "execute_result"
    }
   ],
   "source": [
    "Matrix"
   ]
  },
  {
   "cell_type": "code",
   "execution_count": 4,
   "id": "520c876a",
   "metadata": {},
   "outputs": [
    {
     "name": "stdout",
     "output_type": "stream",
     "text": [
      "Matrix([[1, 0, 1/3, 0], [0, 1, -11/3, 0], [0, 0, 0, 1]])\n"
     ]
    }
   ],
   "source": [
    "import numpy as np\n",
    "from sympy import *\n",
    "augmented_A = Matrix([[1, -1, 4, -5],[3, 0, 1, 0],[-1, 1, -4, 20]])\n",
    "A_red_NoSolution = augmented_A.rref()[0]\n",
    "print(A_red_NoSolution)"
   ]
  },
  {
   "cell_type": "code",
   "execution_count": 5,
   "id": "f8bde2fb",
   "metadata": {},
   "outputs": [
    {
     "name": "stdout",
     "output_type": "stream",
     "text": [
      "Matrix([[1, 0, -1, 2], [0, 1, 1, 2], [0, 0, 0, 0]])\n"
     ]
    }
   ],
   "source": [
    "import numpy as np\n",
    "from sympy import *\n",
    "augmented_A = Matrix([[-1, 1, 2, 0],[1, 2, 1, 6],[-2, -1, 1, -6]])\n",
    "A_red_InfinitelyManySolutions = augmented_A.rref()[0]\n",
    "print(A_red_InfinitelyManySolutions)"
   ]
  }
 ],
 "metadata": {
  "kernelspec": {
   "display_name": "Python 3",
   "language": "python",
   "name": "python3"
  }
 },
 "nbformat": 4,
 "nbformat_minor": 5
}
