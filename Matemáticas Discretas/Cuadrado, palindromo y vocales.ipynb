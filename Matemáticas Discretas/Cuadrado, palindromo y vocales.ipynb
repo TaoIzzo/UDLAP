{
 "cells": [
  {
   "cell_type": "code",
   "execution_count": 3,
   "metadata": {},
   "outputs": [
    {
     "name": "stdout",
     "output_type": "stream",
     "text": [
      "[1, 4, 9, 16, 25]\n",
      "[5.289999999999999, 32.49, 46.239999999999995, 94.08999999999999, 146.41, 243.35999999999999]\n"
     ]
    }
   ],
   "source": [
    "def cuadrado(original):\n",
    "    nuevo = []\n",
    "    for i in original:\n",
    "        nuevo.append(i**2)\n",
    "    return nuevo\n",
    "print(cuadrado([1,2,3,4,5]))\n",
    "print(cuadrado([2.3,5.7,6.8,9.7,12.1,15.6]))"
   ]
  },
  {
   "cell_type": "code",
   "execution_count": 4,
   "metadata": {},
   "outputs": [
    {
     "name": "stdout",
     "output_type": "stream",
     "text": [
      "10\n",
      "9\n",
      "8\n",
      "7\n",
      "6\n",
      "5\n",
      "4\n",
      "3\n",
      "2\n",
      "1\n"
     ]
    }
   ],
   "source": [
    "numeros=list(range(1,11))\n",
    "for i in numeros:\n",
    "    print(numeros[-i])"
   ]
  },
  {
   "cell_type": "code",
   "execution_count": 10,
   "metadata": {},
   "outputs": [
    {
     "name": "stdout",
     "output_type": "stream",
     "text": [
      "La palabra anitalavalatina es palindromo\n",
      "La palabra oso es palindromo\n",
      "La palabra camion no es palaindromo\n",
      "La palabra amoraroma es palindromo\n",
      "La palabra anulalaluna es palindromo\n"
     ]
    }
   ],
   "source": [
    "def palindromo(cadena):\n",
    "    maxLon=len(cadena)-1\n",
    "    band=0\n",
    "    for minLon in range(0,len(cadena)):\n",
    "        if cadena[minLon]!=cadena[maxLon]:\n",
    "            band=1\n",
    "            break\n",
    "        maxLon=maxLon-1\n",
    "    if band == 0:\n",
    "        print(f\"La palabra {cadena} es palindromo\")\n",
    "    else:\n",
    "        \n",
    "        print(f\"La palabra {cadena} no es palaindromo\")\n",
    "palindromo(\"anitalavalatina\")\n",
    "palindromo(\"oso\")\n",
    "palindromo(\"camion\")\n",
    "palindromo(\"amoraroma\")\n",
    "palindromo(\"anulalaluna\")"
   ]
  },
  {
   "cell_type": "code",
   "execution_count": 14,
   "metadata": {},
   "outputs": [
    {
     "name": "stdout",
     "output_type": "stream",
     "text": [
      "En el texto:\n",
      "primer examen de matematicas discretas\n",
      "la vocal a aparece 5  veces\n",
      "la vocal e aparece 6  veces\n",
      "la vocal i aparece 3  veces\n",
      "la vocal o aparece 0  veces\n",
      "la vocal u aparece 0  veces\n"
     ]
    }
   ],
   "source": [
    "texto=\"primer examen de matematicas discretas\"\n",
    "vocales={\"a\":0,\"e\":0,\"i\":0,\"o\":0,\"u\":0}\n",
    "\n",
    "print(f\"En el texto:\\n{texto}\")\n",
    "for letra in texto:\n",
    "    if letra in vocales:\n",
    "        vocales[letra]+=1\n",
    "for vocal in vocales:\n",
    "    print(f\"la vocal {vocal} aparece {(vocales[vocal])}  veces\")"
   ]
  }
 ],
 "metadata": {
  "kernelspec": {
   "display_name": "Python 3 (ipykernel)",
   "language": "python",
   "name": "python3"
  },
  "language_info": {
   "codemirror_mode": {
    "name": "ipython",
    "version": 3
   },
   "file_extension": ".py",
   "mimetype": "text/x-python",
   "name": "python",
   "nbconvert_exporter": "python",
   "pygments_lexer": "ipython3",
   "version": "3.11.2"
  },
  "varInspector": {
   "cols": {
    "lenName": 16,
    "lenType": 16,
    "lenVar": 40
   },
   "kernels_config": {
    "python": {
     "delete_cmd_postfix": "",
     "delete_cmd_prefix": "del ",
     "library": "var_list.py",
     "varRefreshCmd": "print(var_dic_list())"
    },
    "r": {
     "delete_cmd_postfix": ") ",
     "delete_cmd_prefix": "rm(",
     "library": "var_list.r",
     "varRefreshCmd": "cat(var_dic_list()) "
    }
   },
   "types_to_exclude": [
    "module",
    "function",
    "builtin_function_or_method",
    "instance",
    "_Feature"
   ],
   "window_display": false
  }
 },
 "nbformat": 4,
 "nbformat_minor": 4
}
