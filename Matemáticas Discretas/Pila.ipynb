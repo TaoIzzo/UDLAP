{
 "cells": [
  {
   "cell_type": "code",
   "execution_count": 1,
   "id": "experimental-encyclopedia",
   "metadata": {},
   "outputs": [],
   "source": [
    "def push(pila,number):\n",
    "    tamaño=len(pila) # O(1)\n",
    "    if(tamaño<5): #O(1)\n",
    "        pila.append(number) #O(1)\n",
    "    else: #O(1)\n",
    "        print(\"La pila esta llena\") #O(1)\n",
    "# O(1) x 5 = O(5)  \n",
    "#La complejidad algoritmica es O(6) debido a que todo es constante \n",
    "\n",
    "def pop(pila):\n",
    "    tamaño=len(pila) #0(1)\n",
    "    if(tamaño != 0): #O(1)\n",
    "        pila.pop(tamaño-1) #O(n)\n",
    "        return pila #(1)\n",
    "    else: #O(1)\n",
    "        print(\"La pila esta vacia\")  #O(1)\n",
    "# O(1) x 5 + O(n)  = O(n+5)\n",
    "# Ha diferencia de la funcion anteriro aqui el pop tiene una complejidad de O(n) porque recorre toda la pila \n",
    "        \n",
    "def mostrarPila(pila):\n",
    "    tamaño=len(pila) #O(1)\n",
    "    if(tamaño==0): #O(1)\n",
    "        print(\"La pila no tiene elementos\") #O(1)\n",
    "    else: #O(1)\n",
    "        print(\"Elementos de la pila\") #O(1)\n",
    "    for x in reversed (pila): #O(n)\n",
    "        print(x) #O(1)\n",
    "# O(1) x 6 + O(n)  = O(6+n)\n",
    "# Al igual que la funcion anterior el for x in tiene complejidad de O(n) por lo que las demas son solo constantes a considerar\n"
   ]
  },
  {
   "cell_type": "code",
   "execution_count": 2,
   "id": "necessary-smooth",
   "metadata": {},
   "outputs": [
    {
     "name": "stdout",
     "output_type": "stream",
     "text": [
      "[1, 2, 3, 4]\n",
      "[1, 2, 3]\n",
      "La pila esta llena\n",
      "Elementos de la pila\n",
      "11\n",
      "10\n",
      "3\n",
      "2\n",
      "1\n"
     ]
    }
   ],
   "source": [
    "pila = [1,2,3,4]\n",
    "print(pila)\n",
    "pop(pila)\n",
    "print(pila)\n",
    "push(pila,10)\n",
    "push(pila,11)\n",
    "push(pila,12)\n",
    "mostrarPila(pila)"
   ]
  }
 ],
 "metadata": {
  "kernelspec": {
   "display_name": "Python 3 (ipykernel)",
   "language": "python",
   "name": "python3"
  },
  "language_info": {
   "codemirror_mode": {
    "name": "ipython",
    "version": 3
   },
   "file_extension": ".py",
   "mimetype": "text/x-python",
   "name": "python",
   "nbconvert_exporter": "python",
   "pygments_lexer": "ipython3",
   "version": "3.11.2"
  },
  "varInspector": {
   "cols": {
    "lenName": 16,
    "lenType": 16,
    "lenVar": 40
   },
   "kernels_config": {
    "python": {
     "delete_cmd_postfix": "",
     "delete_cmd_prefix": "del ",
     "library": "var_list.py",
     "varRefreshCmd": "print(var_dic_list())"
    },
    "r": {
     "delete_cmd_postfix": ") ",
     "delete_cmd_prefix": "rm(",
     "library": "var_list.r",
     "varRefreshCmd": "cat(var_dic_list()) "
    }
   },
   "types_to_exclude": [
    "module",
    "function",
    "builtin_function_or_method",
    "instance",
    "_Feature"
   ],
   "window_display": false
  }
 },
 "nbformat": 4,
 "nbformat_minor": 5
}
