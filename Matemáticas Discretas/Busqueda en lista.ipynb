{
 "cells": [
  {
   "cell_type": "code",
   "execution_count": 3,
   "id": "afraid-living",
   "metadata": {},
   "outputs": [
    {
     "name": "stdout",
     "output_type": "stream",
     "text": [
      "el numero buscado esta en el indice de primera ocurrencia = 4 y este tiene indice de ultima ocurrencia = 6\n"
     ]
    }
   ],
   "source": [
    "def detector(x):\n",
    "    lista=[1,5,8,10,14,14,14,18,24,25,25,29,30,30] #O(1)\n",
    "    for i in range(0,len(lista),1):\n",
    "        if (lista[i]==x): #O(1)\n",
    "            break\n",
    "    for e in range(len(lista) -1,-1,-1):\n",
    "        if (lista[e]==x): #O(1)\n",
    "            break\n",
    "    print(\"el numero buscado esta en el indice de primera ocurrencia = \"+str(i) +\" y este tiene indice de ultima ocurrencia = \"+str(e)) #O(1)\n",
    "detector(14)"
   ]
  },
  {
   "cell_type": "markdown",
   "id": "loaded-thong",
   "metadata": {},
   "source": [
    "Para resolver este problema o detector se uso divide y venceras, en el cual buscamos el numero en la lista de forma normla, es decir de forma ascendente de uno en uno hasta el final de la lista y por otro lado buscamos el numero pero ahora de forma inversa para asi saber los extremos, es decir el primer indice en al que aparece y el ultimo indice en el que este aparece"
   ]
  },
  {
   "cell_type": "markdown",
   "id": "simplified-wells",
   "metadata": {},
   "source": [
    "Su complejidad especifica es 2*O(n) por los dos for que iteran de froma independiente o mejor dicho no uno dentro del otro y su complejidad general seria o(1)*4+2*O(n) = 2 O(n)+ 4 O(1) por las constantes a consideras."
   ]
  }
 ],
 "metadata": {
  "kernelspec": {
   "display_name": "Python 3 (ipykernel)",
   "language": "python",
   "name": "python3"
  },
  "language_info": {
   "codemirror_mode": {
    "name": "ipython",
    "version": 3
   },
   "file_extension": ".py",
   "mimetype": "text/x-python",
   "name": "python",
   "nbconvert_exporter": "python",
   "pygments_lexer": "ipython3",
   "version": "3.11.2"
  },
  "varInspector": {
   "cols": {
    "lenName": 16,
    "lenType": 16,
    "lenVar": 40
   },
   "kernels_config": {
    "python": {
     "delete_cmd_postfix": "",
     "delete_cmd_prefix": "del ",
     "library": "var_list.py",
     "varRefreshCmd": "print(var_dic_list())"
    },
    "r": {
     "delete_cmd_postfix": ") ",
     "delete_cmd_prefix": "rm(",
     "library": "var_list.r",
     "varRefreshCmd": "cat(var_dic_list()) "
    }
   },
   "types_to_exclude": [
    "module",
    "function",
    "builtin_function_or_method",
    "instance",
    "_Feature"
   ],
   "window_display": false
  }
 },
 "nbformat": 4,
 "nbformat_minor": 5
}
