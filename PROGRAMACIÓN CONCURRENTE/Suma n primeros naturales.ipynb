{
  "nbformat": 4,
  "nbformat_minor": 0,
  "metadata": {
    "colab": {
      "provenance": [],
      "authorship_tag": "ABX9TyPePYHewf8GtGS/m7D+iY2P",
      "include_colab_link": true
    },
    "kernelspec": {
      "name": "python3",
      "display_name": "Python 3"
    },
    "language_info": {
      "name": "python"
    }
  },
  "cells": [
    {
      "cell_type": "markdown",
      "metadata": {
        "id": "view-in-github",
        "colab_type": "text"
      },
      "source": [
        "<a href=\"https://colab.research.google.com/github/TaoIzzo/UDLAP/blob/main/Suma%20n%20primeros%20naturales.ipynb\" target=\"_parent\"><img src=\"https://colab.research.google.com/assets/colab-badge.svg\" alt=\"Open In Colab\"/></a>"
      ]
    },
    {
      "cell_type": "code",
      "execution_count": 20,
      "metadata": {
        "id": "zAJ33Jyt3c8z"
      },
      "outputs": [],
      "source": [
        "import time\n",
        "import numpy as np\n"
      ]
    },
    {
      "cell_type": "markdown",
      "source": [
        "\n",
        "1- Una función que calcule la suma de los primeros n números naturales, de forma recursiva o con un ciclo."
      ],
      "metadata": {
        "id": "PnegTNeq3ghM"
      }
    },
    {
      "cell_type": "code",
      "source": [
        "def suma_recursiva(n):\n",
        "  tiempo1 = []\n",
        "  start = time.time()\n",
        "  suma = 0\n",
        "  for i in range(1, n+1):\n",
        "      suma +=i\n",
        "      end = time.time()\n",
        "      tiempo1.append(end-start)\n",
        "  return print(f\"La suma de los primoeris {n} numero es {suma}, y su media de ejecucion es {np.median(tiempo1)}\")"
      ],
      "metadata": {
        "id": "V2HqYIcP3mPA"
      },
      "execution_count": 40,
      "outputs": []
    },
    {
      "cell_type": "markdown",
      "source": [
        "2- Una función que haga la misma suma, pero con la fórmula general (n * (n+1) / 2 )"
      ],
      "metadata": {
        "id": "CpKaOHbd3p2t"
      }
    },
    {
      "cell_type": "code",
      "source": [
        "def suma_formula(n):\n",
        "  start = time.time()\n",
        "  suma = n * (n+1) / 2\n",
        "  end = time.time()\n",
        "  tiempo2 = (end-start)\n",
        "  return print(f\"La suma de los primoeris {n} numero es {suma}, y su media de ejecucion es {tiempo2}\")"
      ],
      "metadata": {
        "id": "H9ybZHNZ5j0A"
      },
      "execution_count": 46,
      "outputs": []
    },
    {
      "cell_type": "markdown",
      "source": [
        "3- Calcula el tiempo promedio que se tardan ambos cálculos para n=100. ¿Cuál fue más rápida?"
      ],
      "metadata": {
        "id": "GowEbG1i3qDN"
      }
    },
    {
      "cell_type": "code",
      "source": [
        "suma_recursiva(100)"
      ],
      "metadata": {
        "colab": {
          "base_uri": "https://localhost:8080/"
        },
        "id": "rvMnn_lS6mlq",
        "outputId": "87ad5c15-71ce-4906-bd2a-33055c0db983"
      },
      "execution_count": 48,
      "outputs": [
        {
          "output_type": "stream",
          "name": "stdout",
          "text": [
            "La suma de los primoeris 100 numero es 5050, y su media de ejecucion es 2.586841583251953e-05\n"
          ]
        }
      ]
    },
    {
      "cell_type": "code",
      "source": [
        "suma_formula(100)"
      ],
      "metadata": {
        "colab": {
          "base_uri": "https://localhost:8080/"
        },
        "id": "NjzJsvMM6q7y",
        "outputId": "12201676-5f55-422c-8f7a-47e8938d1aee"
      },
      "execution_count": 49,
      "outputs": [
        {
          "output_type": "stream",
          "name": "stdout",
          "text": [
            "La suma de los primoeris 100 numero es 5050.0, y su media de ejecucion es 1.1920928955078125e-06\n"
          ]
        }
      ]
    }
  ]
}
