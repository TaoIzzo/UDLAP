{
 "cells": [
  {
   "cell_type": "code",
   "execution_count": 1,
   "id": "ba3984bc",
   "metadata": {},
   "outputs": [],
   "source": [
    "import numpy as np"
   ]
  },
  {
   "cell_type": "code",
   "execution_count": 2,
   "id": "977aa953",
   "metadata": {},
   "outputs": [],
   "source": [
    "def my_bisection(f,a,b,tol):\n",
    "    if np.sign(f(a))==np.sign(f(b)):\n",
    "        raise Exception(\"Los escalares a y b tienen una raiz\")\n",
    "    m=(a+b)/2\n",
    "    if np.abs(f(m))<tol:\n",
    "        return m\n",
    "    elif np.sign(f(a))==np.sign(f(m)):\n",
    "        return my_bisection(f,m,b,tol)\n",
    "    elif np.sign(f(b))==np.sign(f(m)):\n",
    "        return my_bisection(f,a,m,tol)"
   ]
  },
  {
   "cell_type": "code",
   "execution_count": 3,
   "id": "957c59a0",
   "metadata": {},
   "outputs": [
    {
     "name": "stdout",
     "output_type": "stream",
     "text": [
      "\n",
      " Example 1 \n",
      "\n",
      "La solucion de la ecuacion es igual a :  1.4375\n",
      "La solucion de la ecuacion es igual a :  1.4140625\n",
      "f(root)=  0.06640625 f(root1)= -0.00042724609375\n"
     ]
    }
   ],
   "source": [
    "print(\"\\n Example 1 \\n\")\n",
    "f= lambda x:x**2-2\n",
    "root=my_bisection(f,0,2,0.1)\n",
    "print(\"La solucion de la ecuacion es igual a : \",root)\n",
    "root1=my_bisection(f,0,2,0.01)\n",
    "print(\"La solucion de la ecuacion es igual a : \",root1)\n",
    "print(\"f(root)= \",str(f(root)) +\" f(root1)=\",str(f(root1)))"
   ]
  },
  {
   "cell_type": "code",
   "execution_count": 4,
   "id": "f7bca010",
   "metadata": {},
   "outputs": [
    {
     "ename": "Exception",
     "evalue": "Los escalares a y b tienen una raiz",
     "output_type": "error",
     "traceback": [
      "\u001B[1;31m---------------------------------------------------------------------------\u001B[0m",
      "\u001B[1;31mException\u001B[0m                                 Traceback (most recent call last)",
      "\u001B[1;32m<ipython-input-4-f7ac43d710a2>\u001B[0m in \u001B[0;36m<module>\u001B[1;34m\u001B[0m\n\u001B[1;32m----> 1\u001B[1;33m \u001B[0mroot2\u001B[0m\u001B[1;33m=\u001B[0m\u001B[0mmy_bisection\u001B[0m\u001B[1;33m(\u001B[0m\u001B[0mf\u001B[0m\u001B[1;33m,\u001B[0m\u001B[1;36m2\u001B[0m\u001B[1;33m,\u001B[0m\u001B[1;36m4\u001B[0m\u001B[1;33m,\u001B[0m\u001B[1;36m0.01\u001B[0m\u001B[1;33m)\u001B[0m\u001B[1;33m\u001B[0m\u001B[1;33m\u001B[0m\u001B[0m\n\u001B[0m\u001B[0;32m      2\u001B[0m \u001B[0mprint\u001B[0m\u001B[1;33m(\u001B[0m\u001B[1;34m\"La solucion a la ecuacion es igual a: \"\u001B[0m\u001B[1;33m,\u001B[0m\u001B[0mroot2\u001B[0m\u001B[1;33m)\u001B[0m\u001B[1;33m\u001B[0m\u001B[1;33m\u001B[0m\u001B[0m\n",
      "\u001B[1;32m<ipython-input-2-2294c7c87237>\u001B[0m in \u001B[0;36mmy_bisection\u001B[1;34m(f, a, b, tol)\u001B[0m\n\u001B[0;32m      1\u001B[0m \u001B[1;32mdef\u001B[0m \u001B[0mmy_bisection\u001B[0m\u001B[1;33m(\u001B[0m\u001B[0mf\u001B[0m\u001B[1;33m,\u001B[0m\u001B[0ma\u001B[0m\u001B[1;33m,\u001B[0m\u001B[0mb\u001B[0m\u001B[1;33m,\u001B[0m\u001B[0mtol\u001B[0m\u001B[1;33m)\u001B[0m\u001B[1;33m:\u001B[0m\u001B[1;33m\u001B[0m\u001B[1;33m\u001B[0m\u001B[0m\n\u001B[0;32m      2\u001B[0m     \u001B[1;32mif\u001B[0m \u001B[0mnp\u001B[0m\u001B[1;33m.\u001B[0m\u001B[0msign\u001B[0m\u001B[1;33m(\u001B[0m\u001B[0mf\u001B[0m\u001B[1;33m(\u001B[0m\u001B[0ma\u001B[0m\u001B[1;33m)\u001B[0m\u001B[1;33m)\u001B[0m\u001B[1;33m==\u001B[0m\u001B[0mnp\u001B[0m\u001B[1;33m.\u001B[0m\u001B[0msign\u001B[0m\u001B[1;33m(\u001B[0m\u001B[0mf\u001B[0m\u001B[1;33m(\u001B[0m\u001B[0mb\u001B[0m\u001B[1;33m)\u001B[0m\u001B[1;33m)\u001B[0m\u001B[1;33m:\u001B[0m\u001B[1;33m\u001B[0m\u001B[1;33m\u001B[0m\u001B[0m\n\u001B[1;32m----> 3\u001B[1;33m         \u001B[1;32mraise\u001B[0m \u001B[0mException\u001B[0m\u001B[1;33m(\u001B[0m\u001B[1;34m\"Los escalares a y b tienen una raiz\"\u001B[0m\u001B[1;33m)\u001B[0m\u001B[1;33m\u001B[0m\u001B[1;33m\u001B[0m\u001B[0m\n\u001B[0m\u001B[0;32m      4\u001B[0m     \u001B[0mm\u001B[0m\u001B[1;33m=\u001B[0m\u001B[1;33m(\u001B[0m\u001B[0ma\u001B[0m\u001B[1;33m+\u001B[0m\u001B[0mb\u001B[0m\u001B[1;33m)\u001B[0m\u001B[1;33m/\u001B[0m\u001B[1;36m2\u001B[0m\u001B[1;33m\u001B[0m\u001B[1;33m\u001B[0m\u001B[0m\n\u001B[0;32m      5\u001B[0m     \u001B[1;32mif\u001B[0m \u001B[0mnp\u001B[0m\u001B[1;33m.\u001B[0m\u001B[0mabs\u001B[0m\u001B[1;33m(\u001B[0m\u001B[0mf\u001B[0m\u001B[1;33m(\u001B[0m\u001B[0mm\u001B[0m\u001B[1;33m)\u001B[0m\u001B[1;33m)\u001B[0m\u001B[1;33m<\u001B[0m\u001B[0mtol\u001B[0m\u001B[1;33m:\u001B[0m\u001B[1;33m\u001B[0m\u001B[1;33m\u001B[0m\u001B[0m\n",
      "\u001B[1;31mException\u001B[0m: Los escalares a y b tienen una raiz"
     ]
    }
   ],
   "source": [
    "root2=my_bisection(f,2,4,0.01)\n",
    "print(\"La solucion a la ecuacion es igual a: \",root2)"
   ]
  },
  {
   "cell_type": "code",
   "execution_count": 5,
   "id": "d5819dd2",
   "metadata": {},
   "outputs": [
    {
     "name": "stdout",
     "output_type": "stream",
     "text": [
      "ejemplo 2\n",
      "La solucion de la ecuacion es igual a :  1.365234375\n"
     ]
    }
   ],
   "source": [
    "print(\"ejemplo 2\")\n",
    "f=lambda x:x**3+4*x**2-10\n",
    "root=my_bisection(f,1,2,1e-4)\n",
    "print(\"La solucion de la ecuacion es igual a : \",root)"
   ]
  },
  {
   "cell_type": "code",
   "execution_count": 6,
   "id": "1b58f3ee",
   "metadata": {},
   "outputs": [
    {
     "name": "stdout",
     "output_type": "stream",
     "text": [
      "Ejemplo 3\n",
      "La solucion a la ecuacion es igual a: 0.6416015625\n"
     ]
    }
   ],
   "source": [
    "print(\"Ejemplo 3\")\n",
    "f=lambda x: np.sqrt(x) - np.cos(x)\n",
    "root=my_bisection(f,0,1,1e-3)\n",
    "print(\"La solucion a la ecuacion es igual a:\",root)"
   ]
  },
  {
   "cell_type": "code",
   "execution_count": 7,
   "id": "8c28c381",
   "metadata": {},
   "outputs": [
    {
     "name": "stdout",
     "output_type": "stream",
     "text": [
      "Ejercicio 1\n",
      "La solucion a la ecuacion es igual a: 0.6411895751953125\n"
     ]
    }
   ],
   "source": [
    "print(\"Ejercicio 1\")\n",
    "f=lambda x: x-2**(-x)\n",
    "root=my_bisection(f,0,1,1e-5)\n",
    "print(\"La solucion a la ecuacion es igual a:\",root)"
   ]
  },
  {
   "cell_type": "code",
   "execution_count": 8,
   "id": "dddcf027",
   "metadata": {},
   "outputs": [
    {
     "name": "stdout",
     "output_type": "stream",
     "text": [
      "Ejercicio 2\n",
      "La solucion a la ecuacion es igual a: -0.6808662414550781\n"
     ]
    }
   ],
   "source": [
    "print(\"Ejercicio 2\")\n",
    "f=lambda x: np.exp(x)-x**2+3*x+2\n",
    "root=my_bisection(f,-1,0,1e-5)\n",
    "print(\"La solucion a la ecuacion es igual a:\",root)"
   ]
  },
  {
   "cell_type": "code",
   "execution_count": 12,
   "id": "120a9589",
   "metadata": {},
   "outputs": [
    {
     "name": "stdout",
     "output_type": "stream",
     "text": [
      "Ejercicio 3 a\n",
      "La solucion a la ecuacion es igual a: -2.1913070678710938\n"
     ]
    }
   ],
   "source": [
    "print(\"Ejercicio 3 a\")\n",
    "f=lambda x: (2*x*np.cos(2*x)) - (x + 1)**2\n",
    "root=my_bisection(f,-3,-2,1e-5)\n",
    "print(\"La solucion a la ecuacion es igual a:\",root)"
   ]
  },
  {
   "cell_type": "code",
   "execution_count": 13,
   "id": "e1505eb0",
   "metadata": {},
   "outputs": [
    {
     "name": "stdout",
     "output_type": "stream",
     "text": [
      "Ejercicio 3 b\n",
      "La solucion a la ecuacion es igual a: -0.7981605529785156\n"
     ]
    }
   ],
   "source": [
    "print(\"Ejercicio 3 b\")\n",
    "f=lambda x: (2*x*np.cos(2*x)) - (x + 1)**2\n",
    "root=my_bisection(f,-1,0,1e-5)\n",
    "print(\"La solucion a la ecuacion es igual a:\",root)"
   ]
  },
  {
   "cell_type": "code",
   "execution_count": 15,
   "id": "7f48201f",
   "metadata": {},
   "outputs": [
    {
     "name": "stdout",
     "output_type": "stream",
     "text": [
      "Ejercicio 4 a\n",
      "La solucion a la ecuacion es igual a: 0.29752807617187504\n"
     ]
    }
   ],
   "source": [
    "print(\"Ejercicio 4 a\")\n",
    "f=lambda x: x*np.cos(x)-2*x**2+3*x-1\n",
    "root=my_bisection(f,0.2,0.3,1e-5)\n",
    "print(\"La solucion a la ecuacion es igual a:\",root)"
   ]
  },
  {
   "cell_type": "code",
   "execution_count": 16,
   "id": "82aadaa2",
   "metadata": {},
   "outputs": [
    {
     "name": "stdout",
     "output_type": "stream",
     "text": [
      "Ejercicio 4 b\n",
      "La solucion a la ecuacion es igual a: 1.256622314453125\n"
     ]
    }
   ],
   "source": [
    "print(\"Ejercicio 4 b\")\n",
    "f=lambda x: x*np.cos(x)-2*x**2+3*x-1\n",
    "root=my_bisection(f,1.2,1.3,1e-5)\n",
    "print(\"La solucion a la ecuacion es igual a:\",root)"
   ]
  }
 ],
 "metadata": {
  "kernelspec": {
   "display_name": "Python 3",
   "language": "python",
   "name": "python3"
  },
  "language_info": {
   "codemirror_mode": {
    "name": "ipython",
    "version": 3
   },
   "file_extension": ".py",
   "mimetype": "text/x-python",
   "name": "python",
   "nbconvert_exporter": "python",
   "pygments_lexer": "ipython3",
   "version": "3.7.10"
  }
 },
 "nbformat": 4,
 "nbformat_minor": 5
}
