{
 "cells": [
  {
   "cell_type": "markdown",
   "metadata": {},
   "source": [
    "# Codigo multiplicacion matricial "
   ]
  },
  {
   "cell_type": "markdown",
   "metadata": {},
   "source": [
    "El siguiente codigo multiplica las matrices 1 y 2 de n tamaño "
   ]
  },
  {
   "cell_type": "code",
   "execution_count": 1,
   "metadata": {},
   "outputs": [
    {
     "name": "stdout",
     "output_type": "stream",
     "text": [
      "[[9, 12, 15], [19, 26, 33], [29, 40, 51]]\n"
     ]
    }
   ],
   "source": [
    "matriz1=[[1,2],[3,4],[5,6]]\n",
    "matriz2=[[1,2,3],[4,5,6]]\n",
    "matrizR=[[0,0,0],[0,0,0],[0,0,0]]\n",
    "def multiplicacionMatrizial(matriz1,matriz2):\n",
    "    for x in range(len(matriz1)):\n",
    "        for y in range(len(matriz2)):\n",
    "            for z in range(len(matrizR)):\n",
    "                matrizR[x][z]+=matriz1[x][y]*matriz2[y][z]\n",
    "    print(matrizR)\n",
    "\n",
    "multiplicacionMatrizial(matriz1,matriz2)"
   ]
  },
  {
   "cell_type": "markdown",
   "metadata": {},
   "source": [
    "La complejidad del codigo seria O(len(matriz1)*len(matriz2)*len(matrizR)) que se puede interpretar como O(n*n1*n2) ya que cada n podria o no ser igual a la otra"
   ]
  },
  {
   "cell_type": "code",
   "execution_count": 2,
   "metadata": {},
   "outputs": [
    {
     "name": "stdout",
     "output_type": "stream",
     "text": [
      "[[30, 24, 18], [84, 69, 54], [138, 114, 90]]\n"
     ]
    }
   ],
   "source": [
    "matriz1=[[1,2,3],[4,5,6],[7,8,9]]\n",
    "matriz2=[[9,8,7],[6,5,4],[3,2,1]]\n",
    "matrizR=[[0,0,0],[0,0,0],[0,0,0]]\n",
    "def multiplicacionMatrizial(matriz1,matriz2):\n",
    "    for x in range(len(matriz1)):\n",
    "        for y in range(len(matriz2)):\n",
    "            for z in range(len(matrizR)):\n",
    "                matrizR[x][z]+=matriz1[x][y]*matriz2[y][z]\n",
    "    print(matrizR)\n",
    "\n",
    "multiplicacionMatrizial(matriz1,matriz2)"
   ]
  },
  {
   "cell_type": "markdown",
   "metadata": {},
   "source": [
    "Si bien se desarrollo en el codigo anterior una funcion, en python existe una que hace la operacion, la cual se encuntra en la libreria de numpy (Numeric Python) la forma para usarla es la siguinete "
   ]
  },
  {
   "cell_type": "code",
   "execution_count": 5,
   "metadata": {},
   "outputs": [
    {
     "data": {
      "text/plain": [
       "array([[ 30,  24,  18],\n",
       "       [ 84,  69,  54],\n",
       "       [138, 114,  90]])"
      ]
     },
     "execution_count": 5,
     "metadata": {},
     "output_type": "execute_result"
    }
   ],
   "source": [
    "# se importa la libreria y se le da un seudonombre para no escribirla completa\n",
    "import numpy as np\n",
    "#usamos la funcion array para definir nuestras matrices\n",
    "matriz1=np.array([(1,2,3),(4,5,6),(7,8,9)])\n",
    "matriz2=np.array([(9,8,7),(6,5,4),(3,2,1)])\n",
    "#para ser la multiplicacion de estas matrices se usa la funcion dot\n",
    "np.dot(matriz1,matriz2)"
   ]
  },
  {
   "cell_type": "markdown",
   "metadata": {},
   "source": [
    "De la anteriro manera se ejecutara la funcion ya definida desde la libreria de numpy, a lo largo es mjeor usar o ya definido que hacerlo a mano, aunque tengo que mencionar que no se la complejidad de las funciones, de las simples como son las tuplas,listas y diccionarios se encuntran en la wiki de python http://wiki.python.org/"
   ]
  }
 ],
 "metadata": {
  "kernelspec": {
   "display_name": "Python 3 (ipykernel)",
   "language": "python",
   "name": "python3"
  },
  "language_info": {
   "codemirror_mode": {
    "name": "ipython",
    "version": 3
   },
   "file_extension": ".py",
   "mimetype": "text/x-python",
   "name": "python",
   "nbconvert_exporter": "python",
   "pygments_lexer": "ipython3",
   "version": "3.11.2"
  },
  "varInspector": {
   "cols": {
    "lenName": 16,
    "lenType": 16,
    "lenVar": 40
   },
   "kernels_config": {
    "python": {
     "delete_cmd_postfix": "",
     "delete_cmd_prefix": "del ",
     "library": "var_list.py",
     "varRefreshCmd": "print(var_dic_list())"
    },
    "r": {
     "delete_cmd_postfix": ") ",
     "delete_cmd_prefix": "rm(",
     "library": "var_list.r",
     "varRefreshCmd": "cat(var_dic_list()) "
    }
   },
   "types_to_exclude": [
    "module",
    "function",
    "builtin_function_or_method",
    "instance",
    "_Feature"
   ],
   "window_display": false
  }
 },
 "nbformat": 4,
 "nbformat_minor": 4
}
