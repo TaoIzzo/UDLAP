{
 "cells": [
  {
   "cell_type": "code",
   "execution_count": 20,
   "id": "minor-sacramento",
   "metadata": {},
   "outputs": [
    {
     "name": "stdout",
     "output_type": "stream",
     "text": [
      "El minimo es:1350\n"
     ]
    }
   ],
   "source": [
    "def matriz(mm,n):\n",
    "    dp=[[0 for i in range(n)]for j in range (n)] #O(1)\n",
    "    for i in range(1,n): #O(n)\n",
    "        dp[i][i]=0 #O(1)\n",
    "        \n",
    "    for L in range (2, n): #O(n)\n",
    "        for a in range(1, n-L+1): #O(n)\n",
    "            b= a+L-1 #O(1)\n",
    "            dp[a][b] = 10**10 #O(1)\n",
    "            for k in range (a, b): #O(n)\n",
    "                q = dp[a][k]+ dp [k+1][b]+arr[a-1]*mm[k]*mm[b] #O(1)\n",
    "                if q<dp[a][b]: #O(1)\n",
    "                    dp[a][b]=q #O(1)\n",
    "    return dp[1][n-1] #O(1)\n",
    "\n",
    "mm  = [15,20,60,10,5] #O(1)\n",
    "size = len(mm) #O(1)\n",
    "\n",
    "print(\"El minimo es:\" +str(matriz(mm,size)))"
   ]
  },
  {
   "cell_type": "markdown",
   "id": "alpine-hundred",
   "metadata": {},
   "source": [
    "Se usa tabulacion porque iteramos entre las operaciones porque se analzian todos los problemas entre el caso base y el problema principal\n",
    "\n",
    "la complejidad general seria O(n)+O(n)^3+10*O(1)= O(n)+O(n)^3+*O(10) por las constantes y las iteraciones d elos for, unos entan dentros de otros por lo cual se elevan y el que esta inddividual o afuera de lo otros "
   ]
  }
 ],
 "metadata": {
  "kernelspec": {
   "display_name": "Python 3 (ipykernel)",
   "language": "python",
   "name": "python3"
  },
  "language_info": {
   "codemirror_mode": {
    "name": "ipython",
    "version": 3
   },
   "file_extension": ".py",
   "mimetype": "text/x-python",
   "name": "python",
   "nbconvert_exporter": "python",
   "pygments_lexer": "ipython3",
   "version": "3.11.2"
  },
  "varInspector": {
   "cols": {
    "lenName": 16,
    "lenType": 16,
    "lenVar": 40
   },
   "kernels_config": {
    "python": {
     "delete_cmd_postfix": "",
     "delete_cmd_prefix": "del ",
     "library": "var_list.py",
     "varRefreshCmd": "print(var_dic_list())"
    },
    "r": {
     "delete_cmd_postfix": ") ",
     "delete_cmd_prefix": "rm(",
     "library": "var_list.r",
     "varRefreshCmd": "cat(var_dic_list()) "
    }
   },
   "types_to_exclude": [
    "module",
    "function",
    "builtin_function_or_method",
    "instance",
    "_Feature"
   ],
   "window_display": false
  }
 },
 "nbformat": 4,
 "nbformat_minor": 5
}
