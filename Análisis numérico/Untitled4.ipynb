{
 "cells": [
  {
   "cell_type": "code",
   "execution_count": 12,
   "id": "b03f43ad",
   "metadata": {},
   "outputs": [],
   "source": [
    "import numpy as np\n",
    "from lib_funciones_generales import *\n",
    "from lib_funciones_particulares2 import *"
   ]
  },
  {
   "cell_type": "code",
   "execution_count": 13,
   "id": "3783a374",
   "metadata": {},
   "outputs": [],
   "source": [
    "def I(x):\n",
    "\tif x==0:\n",
    "\t\treturn 100\n",
    "\telif x==L:\n",
    "\t\treturn 50\n",
    "\telse:\n",
    "\t\treturn 0\n",
    "\n",
    "def I2(x):\n",
    "    if x < 1/2 and x>=0:\n",
    "        return 2*x\n",
    "    elif x <= 1 and x>=1/2:\n",
    "        return 2 -2*x\n"
   ]
  },
  {
   "cell_type": "code",
   "execution_count": 14,
   "id": "b6d5edbb",
   "metadata": {},
   "outputs": [
    {
     "ename": "NameError",
     "evalue": "name 'solver_BE_simple' is not defined",
     "output_type": "error",
     "traceback": [
      "\u001B[1;31m---------------------------------------------------------------------------\u001B[0m",
      "\u001B[1;31mNameError\u001B[0m                                 Traceback (most recent call last)",
      "Cell \u001B[1;32mIn [14], line 12\u001B[0m\n\u001B[0;32m      8\u001B[0m dt \u001B[38;5;241m=\u001B[39mT\u001B[38;5;241m/\u001B[39mNt\n\u001B[0;32m     10\u001B[0m F \u001B[38;5;241m=\u001B[39m dt\u001B[38;5;241m*\u001B[39mK\u001B[38;5;241m/\u001B[39mdx\u001B[38;5;241m*\u001B[39m\u001B[38;5;241m*\u001B[39m\u001B[38;5;241m2\u001B[39m  \n\u001B[1;32m---> 12\u001B[0m ans \u001B[38;5;241m=\u001B[39m \u001B[43msolver_BE_simple\u001B[49m(I, K, L, dt, F, T, \u001B[38;5;241m100\u001B[39m, \u001B[38;5;241m50\u001B[39m)\n\u001B[0;32m     14\u001B[0m u \u001B[38;5;241m=\u001B[39m ans[\u001B[38;5;241m0\u001B[39m]\n\u001B[0;32m     15\u001B[0m x \u001B[38;5;241m=\u001B[39m ans[\u001B[38;5;241m1\u001B[39m]\n",
      "\u001B[1;31mNameError\u001B[0m: name 'solver_BE_simple' is not defined"
     ]
    }
   ],
   "source": [
    "K = 0.8348  #### K=k/(rho*C)\n",
    "L = 10 \n",
    "\n",
    "Nx = 5\n",
    "dx = L/Nx\n",
    "T = 2\n",
    "Nt = 20\n",
    "dt =T/Nt\n",
    "\n",
    "F = dt*K/dx**2  \n",
    "\n",
    "ans = solver_BE_simple(I, K, L, dt, F, T, 100, 50)\n",
    "\n",
    "u = ans[0]\n",
    "x = ans[1]\n",
    "t = ans[2]\n",
    "cpu = ans[3]\n",
    "u_array = ans[4]\n",
    "#print('Table:', u_array)\n",
    "#print('t:', t)\n",
    "\n",
    "\n",
    "nt = Nt \n",
    "time = t\n",
    "y_time = u_array \n",
    "x_sec_min = 0\n",
    "x_sec_max = L\n",
    "nx = Nx \n",
    "xlab = 'Longitud [cm]'\n",
    "ylab = 'Temperatura [°C]'\n",
    "fig_title = 'Ejemplo ilustrativo 3a, F: '+str(F)\n",
    "legend = False\n",
    "figure1 = XYplot_profiles(nt, time, y_time, x_sec_min, x_sec_max, nx, xlab, ylab, fig_title, legend)\n"
   ]
  },
  {
   "cell_type": "code",
   "execution_count": null,
   "id": "c6ddfd0a",
   "metadata": {},
   "outputs": [],
   "source": []
  }
 ],
 "metadata": {
  "kernelspec": {
   "display_name": "Python 3",
   "language": "python",
   "name": "python3"
  },
  "language_info": {
   "codemirror_mode": {
    "name": "ipython",
    "version": 3
   },
   "file_extension": ".py",
   "mimetype": "text/x-python",
   "name": "python",
   "nbconvert_exporter": "python",
   "pygments_lexer": "ipython3",
   "version": "3.8.8"
  }
 },
 "nbformat": 4,
 "nbformat_minor": 5
}
