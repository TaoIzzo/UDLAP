{
 "cells": [
  {
   "cell_type": "code",
   "execution_count": 1,
   "id": "relative-institution",
   "metadata": {},
   "outputs": [
    {
     "name": "stdout",
     "output_type": "stream",
     "text": [
      "[[2, 1, 7], [4, 2, 8], [6, 3, 9]]\n"
     ]
    }
   ],
   "source": [
    "lista = [[2,4,6],[1,2,3],[7,8,9]]\n",
    "lista2=[[row[i] for row in lista] for i in range (len(lista))]\n",
    "print(lista2)"
   ]
  },
  {
   "cell_type": "code",
   "execution_count": 2,
   "id": "continental-universal",
   "metadata": {},
   "outputs": [
    {
     "name": "stdout",
     "output_type": "stream",
     "text": [
      "[0, 15, 30, 45, 60, 75, 90]\n"
     ]
    }
   ],
   "source": [
    "lista = [x for x in range(100) if x % 3 == 0 if x % 5 == 0]\n",
    "print(lista)"
   ]
  },
  {
   "cell_type": "code",
   "execution_count": 3,
   "id": "imperial-multimedia",
   "metadata": {},
   "outputs": [
    {
     "name": "stdout",
     "output_type": "stream",
     "text": [
      "253\n"
     ]
    }
   ],
   "source": [
    "def recursion(numeros):\n",
    "    if len(numeros)==0:\n",
    "        return 0\n",
    "    ultimoNumero = numeros.pop()\n",
    "    return ultimoNumero + recursion(numeros)\n",
    "print(recursion([67,54,10,33,89]))"
   ]
  },
  {
   "cell_type": "code",
   "execution_count": 4,
   "id": "vocational-testament",
   "metadata": {},
   "outputs": [
    {
     "name": "stdout",
     "output_type": "stream",
     "text": [
      "1\n",
      "3\n",
      "6\n",
      "10\n",
      "15\n",
      "21\n"
     ]
    },
    {
     "data": {
      "text/plain": [
       "21"
      ]
     },
     "execution_count": 4,
     "metadata": {},
     "output_type": "execute_result"
    }
   ],
   "source": [
    "def recursion(k):\n",
    "    if(k>0):\n",
    "        resultado = k+recursion(k-1)\n",
    "        print(resultado)\n",
    "    else:\n",
    "        resultado=0\n",
    "    return resultado\n",
    "recursion(6)"
   ]
  },
  {
   "cell_type": "code",
   "execution_count": 5,
   "id": "nominated-account",
   "metadata": {},
   "outputs": [
    {
     "name": "stdout",
     "output_type": "stream",
     "text": [
      "[40, 80, 120, 80, 160, 240, 120, 240, 360]\n"
     ]
    }
   ],
   "source": [
    "lista = [x * y for x in [20,40,60] for y in [2,4,6]]\n",
    "print(lista)"
   ]
  },
  {
   "cell_type": "code",
   "execution_count": 6,
   "id": "blond-procurement",
   "metadata": {},
   "outputs": [
    {
     "name": "stdout",
     "output_type": "stream",
     "text": [
      "mover disco 1 de  A a C\n",
      "mover disco 2 de  A a B\n",
      "mover disco 1 de  C a B\n",
      "mover disco 3 de  A a C\n",
      "mover disco 1 de  B a A\n",
      "mover disco 2 de  B a C\n",
      "mover disco 1 de  A a C\n",
      "mover disco 4 de  A a B\n",
      "mover disco 1 de  C a B\n",
      "mover disco 2 de  C a A\n",
      "mover disco 1 de  B a A\n",
      "mover disco 3 de  C a B\n",
      "mover disco 1 de  A a C\n",
      "mover disco 2 de  A a B\n",
      "mover disco 1 de  C a B\n",
      "mover disco 5 de  A a C\n",
      "mover disco 1 de  B a A\n",
      "mover disco 2 de  B a C\n",
      "mover disco 1 de  A a C\n",
      "mover disco 3 de  B a A\n",
      "mover disco 1 de  C a B\n",
      "mover disco 2 de  C a A\n",
      "mover disco 1 de  B a A\n",
      "mover disco 4 de  B a C\n",
      "mover disco 1 de  A a C\n",
      "mover disco 2 de  A a B\n",
      "mover disco 1 de  C a B\n",
      "mover disco 3 de  A a C\n",
      "mover disco 1 de  B a A\n",
      "mover disco 2 de  B a C\n",
      "mover disco 1 de  A a C\n"
     ]
    }
   ],
   "source": [
    "def hanoi(n,A,B,C):\n",
    "    if n==1:\n",
    "        print(\"mover disco 1 de \",A,\"a\",C)\n",
    "    else:\n",
    "        hanoi(n-1,A,C,B)\n",
    "        print(\"mover disco\",n,\"de \",A,\"a\",C)\n",
    "        hanoi(n-1,B,A,C)\n",
    "n=5\n",
    "hanoi(n,\"A\",\"B\",\"C\")"
   ]
  },
  {
   "cell_type": "code",
   "execution_count": 7,
   "id": "valuable-species",
   "metadata": {},
   "outputs": [
    {
     "name": "stdout",
     "output_type": "stream",
     "text": [
      "mover disco 1 de  A a B\n",
      "mover disco 2 de  A a C\n",
      "mover disco 1 de  B a C\n",
      "mover disco 3 de  A a B\n",
      "mover disco 1 de  C a A\n",
      "mover disco 2 de  C a B\n",
      "mover disco 1 de  A a B\n",
      "mover disco 4 de  A a C\n",
      "mover disco 1 de  B a C\n",
      "mover disco 2 de  B a A\n",
      "mover disco 1 de  C a A\n",
      "mover disco 3 de  B a C\n",
      "mover disco 1 de  A a B\n",
      "mover disco 2 de  A a C\n",
      "mover disco 1 de  B a C\n",
      "mover disco 5 de  A a B\n",
      "mover disco 1 de  C a A\n",
      "mover disco 2 de  C a B\n",
      "mover disco 1 de  A a B\n",
      "mover disco 3 de  C a A\n",
      "mover disco 1 de  B a C\n",
      "mover disco 2 de  B a A\n",
      "mover disco 1 de  C a A\n",
      "mover disco 4 de  C a B\n",
      "mover disco 1 de  A a B\n",
      "mover disco 2 de  A a C\n",
      "mover disco 1 de  B a C\n",
      "mover disco 3 de  A a B\n",
      "mover disco 1 de  C a A\n",
      "mover disco 2 de  C a B\n",
      "mover disco 1 de  A a B\n"
     ]
    }
   ],
   "source": [
    "def hanoi(n,A,B,C):\n",
    "    if n==1:\n",
    "        print(\"mover disco 1 de \",A,\"a\",B)\n",
    "    else:\n",
    "        hanoi(n-1,A,C,B)\n",
    "        print(\"mover disco\",n,\"de \",A,\"a\",B)\n",
    "        hanoi(n-1,C,B,A)\n",
    "n=5\n",
    "hanoi(n,\"A\",\"B\",\"C\")"
   ]
  }
 ],
 "metadata": {
  "kernelspec": {
   "display_name": "Python 3 (ipykernel)",
   "language": "python",
   "name": "python3"
  },
  "language_info": {
   "codemirror_mode": {
    "name": "ipython",
    "version": 3
   },
   "file_extension": ".py",
   "mimetype": "text/x-python",
   "name": "python",
   "nbconvert_exporter": "python",
   "pygments_lexer": "ipython3",
   "version": "3.11.2"
  },
  "varInspector": {
   "cols": {
    "lenName": 16,
    "lenType": 16,
    "lenVar": 40
   },
   "kernels_config": {
    "python": {
     "delete_cmd_postfix": "",
     "delete_cmd_prefix": "del ",
     "library": "var_list.py",
     "varRefreshCmd": "print(var_dic_list())"
    },
    "r": {
     "delete_cmd_postfix": ") ",
     "delete_cmd_prefix": "rm(",
     "library": "var_list.r",
     "varRefreshCmd": "cat(var_dic_list()) "
    }
   },
   "types_to_exclude": [
    "module",
    "function",
    "builtin_function_or_method",
    "instance",
    "_Feature"
   ],
   "window_display": false
  }
 },
 "nbformat": 4,
 "nbformat_minor": 5
}
