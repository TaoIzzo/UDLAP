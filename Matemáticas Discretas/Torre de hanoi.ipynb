{
 "cells": [
  {
   "cell_type": "code",
   "execution_count": 6,
   "id": "secure-designer",
   "metadata": {},
   "outputs": [
    {
     "name": "stdout",
     "output_type": "stream",
     "text": [
      "mover disco 1 de  A a B\n",
      "mover disco 2 de  A a C\n",
      "mover disco 1 de  B a C\n",
      "mover disco 3 de  A a B\n",
      "mover disco 1 de  C a A\n",
      "mover disco 2 de  C a B\n",
      "mover disco 1 de  A a B\n",
      "mover disco 4 de  A a C\n",
      "mover disco 1 de  B a C\n",
      "mover disco 2 de  B a A\n",
      "mover disco 1 de  C a A\n",
      "mover disco 3 de  B a C\n",
      "mover disco 1 de  A a B\n",
      "mover disco 2 de  A a C\n",
      "mover disco 1 de  B a C\n",
      "mover disco 5 de  A a B\n",
      "mover disco 1 de  C a A\n",
      "mover disco 2 de  C a B\n",
      "mover disco 1 de  A a B\n",
      "mover disco 3 de  C a A\n",
      "mover disco 1 de  B a C\n",
      "mover disco 2 de  B a A\n",
      "mover disco 1 de  C a A\n",
      "mover disco 4 de  C a B\n",
      "mover disco 1 de  A a B\n",
      "mover disco 2 de  A a C\n",
      "mover disco 1 de  B a C\n",
      "mover disco 3 de  A a B\n",
      "mover disco 1 de  C a A\n",
      "mover disco 2 de  C a B\n",
      "mover disco 1 de  A a B\n"
     ]
    }
   ],
   "source": [
    "def hanoi(n,A,B,C):\n",
    "    if n==1: #O(1)\n",
    "        print(\"mover disco 1 de \",A,\"a\",B) #O(1)\n",
    "    else: #O(1)\n",
    "        hanoi(n-1,A,C,B) #O(1)\n",
    "        print(\"mover disco\",n,\"de \",A,\"a\",B) #O(1)\n",
    "        hanoi(n-1,C,B,A) #O(1)\n",
    "n=5 #O(1)\n",
    "hanoi(n,\"A\",\"B\",\"C\")"
   ]
  },
  {
   "cell_type": "markdown",
   "id": "casual-crack",
   "metadata": {},
   "source": [
    "La torre de Hanoi es un problema que se resuelve con divide y venceras, debido a que se deben reacomodar cada uno de los discos de forma en que no quede un numero mas pequeño a bajo de otro, es decir tenemos que resolver varios problemas para llegar a la solucion final (divide y venceras), a \"fuerza bruta\" no se podria o se tendria que llegar al mismo caso despues de varios intentos porque no son las combinaciones posibles o intentos a hacer, si no observar que los discos queden en orden ascendente con respecto a la base siempre y con respecto a \"programacion dinamica\" aqui no es necesario guardar los resultados anteriores a la solucion esperada, puesto que no son de utilidad al final , aunque son semejantes la programacion \"dinamica\" con \"divide y venceras\" tienen diferentes enfoques al fin y al cabo.\n",
    "\n",
    "La complejidad con 5 discos es O(7), sin embargo, con forme mas aumentan los discos mas va aumentando la complejidad por lo que en el peor de los casos vendria siendo O(n), es decir , puede partir de un O(1) si no hay gran cantidad de discos que el tiempo de ejecucuion es indistinguible entre esos discos hasta la o(n) que ya se logra apreciar el tiempo para llegar al resulttado por oo tanto quedaria:"
   ]
  },
  {
   "cell_type": "markdown",
   "id": "bottom-rachel",
   "metadata": {},
   "source": [
    "<table style=\"width:50%\">\n",
    "  <tr>\n",
    "    <th>mejor de los casos</th>\n",
    "    <th>Peor de los casos</th> \n",
    "  </tr>\n",
    "  <tr>\n",
    "    <td>O(7)</td>\n",
    "    <td>O(n)</td>\n",
    "  </tr>\n",
    "  <tr>\n",
    "    <td>O(1)</td>\n",
    "    <td>O(n)</td>\n",
    "  </tr>\n",
    "</table>"
   ]
  }
 ],
 "metadata": {
  "kernelspec": {
   "display_name": "Python 3 (ipykernel)",
   "language": "python",
   "name": "python3"
  },
  "language_info": {
   "codemirror_mode": {
    "name": "ipython",
    "version": 3
   },
   "file_extension": ".py",
   "mimetype": "text/x-python",
   "name": "python",
   "nbconvert_exporter": "python",
   "pygments_lexer": "ipython3",
   "version": "3.11.2"
  },
  "varInspector": {
   "cols": {
    "lenName": 16,
    "lenType": 16,
    "lenVar": 40
   },
   "kernels_config": {
    "python": {
     "delete_cmd_postfix": "",
     "delete_cmd_prefix": "del ",
     "library": "var_list.py",
     "varRefreshCmd": "print(var_dic_list())"
    },
    "r": {
     "delete_cmd_postfix": ") ",
     "delete_cmd_prefix": "rm(",
     "library": "var_list.r",
     "varRefreshCmd": "cat(var_dic_list()) "
    }
   },
   "types_to_exclude": [
    "module",
    "function",
    "builtin_function_or_method",
    "instance",
    "_Feature"
   ],
   "window_display": false
  }
 },
 "nbformat": 4,
 "nbformat_minor": 5
}
