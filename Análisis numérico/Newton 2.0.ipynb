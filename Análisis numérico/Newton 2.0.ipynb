{
 "cells": [
  {
   "cell_type": "code",
   "execution_count": 1,
   "id": "edd37767",
   "metadata": {},
   "outputs": [],
   "source": [
    "import numpy as np"
   ]
  },
  {
   "cell_type": "code",
   "execution_count": 2,
   "id": "5526a45a",
   "metadata": {},
   "outputs": [],
   "source": [
    "def newton(f,Df,x0,epsilon,max_iter):\n",
    "    xn=x0\n",
    "    for n in range(0,max_iter):\n",
    "        fxn=f(xn)\n",
    "        if abs(fxn)<epsilon:\n",
    "            print(\"found solution after \",n,\"iterations\")\n",
    "            return xn\n",
    "        Dfxn=Df(xn)\n",
    "        if Dfxn==0:\n",
    "            print(\"zero derivative. No solution found.\")\n",
    "            return None\n",
    "        xn = xn - fxn/Dfxn\n",
    "    print(\"Exced maxinum iterations. No solution found\")\n",
    "    return None"
   ]
  },
  {
   "cell_type": "code",
   "execution_count": 3,
   "id": "262ec931",
   "metadata": {},
   "outputs": [
    {
     "name": "stdout",
     "output_type": "stream",
     "text": [
      "found solution after  4 iterations\n",
      "1.4142135623746899\n"
     ]
    }
   ],
   "source": [
    "f= lambda x:x**2 - 2\n",
    "f_prime = lambda x:2*x\n",
    "root = newton (f,f_prime,1,1e-6,100)\n",
    "print(root)"
   ]
  },
  {
   "cell_type": "code",
   "execution_count": 4,
   "id": "eab5014f",
   "metadata": {},
   "outputs": [
    {
     "name": "stdout",
     "output_type": "stream",
     "text": [
      "Exced maxinum iterations. No solution found\n",
      "La solución de la ecuación es igual a None\n"
     ]
    }
   ],
   "source": [
    "f = lambda x: x**(1/3)\n",
    "f_prime = lambda x: (1/3)*x**(-2/3)\n",
    "x0 = 1e-2\n",
    "tol = 1e-6   \n",
    "max_iter=100\n",
    "root4 = newton(f, f_prime, x0, tol,max_iter)\n",
    "print(\"La solución de la ecuación es igual a\", root4)"
   ]
  }
 ],
 "metadata": {
  "kernelspec": {
   "display_name": "Python 3",
   "language": "python",
   "name": "python3"
  },
  "language_info": {
   "codemirror_mode": {
    "name": "ipython",
    "version": 3
   },
   "file_extension": ".py",
   "mimetype": "text/x-python",
   "name": "python",
   "nbconvert_exporter": "python",
   "pygments_lexer": "ipython3",
   "version": "3.7.10"
  }
 },
 "nbformat": 4,
 "nbformat_minor": 5
}
