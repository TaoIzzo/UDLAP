{
 "cells": [
  {
   "cell_type": "code",
   "execution_count": 1,
   "id": "3b8ebdbd",
   "metadata": {},
   "outputs": [],
   "source": [
    "import numpy as np"
   ]
  },
  {
   "cell_type": "code",
   "execution_count": 2,
   "id": "818f3ce0",
   "metadata": {},
   "outputs": [],
   "source": [
    "def my_newton(f,df,x0,tol):\n",
    "    if abs(f(x0))<tol:\n",
    "        return x0\n",
    "    else:\n",
    "        return my_newton(f,df,x0 - f(x0)/df(x0),tol)"
   ]
  },
  {
   "cell_type": "code",
   "execution_count": 3,
   "id": "f7468dcc",
   "metadata": {},
   "outputs": [
    {
     "name": "stdout",
     "output_type": "stream",
     "text": [
      "1.4142135623746899\n"
     ]
    }
   ],
   "source": [
    "f= lambda x:x**2 - 2\n",
    "f_prime = lambda x:2*x\n",
    "root = my_newton (f,f_prime,1,1e-6)\n",
    "print(root)"
   ]
  },
  {
   "cell_type": "code",
   "execution_count": 4,
   "id": "c25c3f7d",
   "metadata": {},
   "outputs": [
    {
     "ename": "OverflowError",
     "evalue": "complex exponentiation",
     "output_type": "error",
     "traceback": [
      "\u001B[1;31m---------------------------------------------------------------------------\u001B[0m",
      "\u001B[1;31mOverflowError\u001B[0m                             Traceback (most recent call last)",
      "Cell \u001B[1;32mIn [4], line 5\u001B[0m\n\u001B[0;32m      3\u001B[0m x0 \u001B[38;5;241m=\u001B[39m \u001B[38;5;241m1e-2\u001B[39m\n\u001B[0;32m      4\u001B[0m tol \u001B[38;5;241m=\u001B[39m \u001B[38;5;241m1e-6\u001B[39m   \n\u001B[1;32m----> 5\u001B[0m root4 \u001B[38;5;241m=\u001B[39m \u001B[43mmy_newton\u001B[49m\u001B[43m(\u001B[49m\u001B[43mf\u001B[49m\u001B[43m,\u001B[49m\u001B[43m \u001B[49m\u001B[43mf_prime\u001B[49m\u001B[43m,\u001B[49m\u001B[43m \u001B[49m\u001B[43mx0\u001B[49m\u001B[43m,\u001B[49m\u001B[43m \u001B[49m\u001B[43mtol\u001B[49m\u001B[43m)\u001B[49m\n\u001B[0;32m      6\u001B[0m \u001B[38;5;28mprint\u001B[39m(\u001B[38;5;124m\"\u001B[39m\u001B[38;5;124mLa solución de la ecuación es igual a\u001B[39m\u001B[38;5;124m\"\u001B[39m, root4)\n",
      "Cell \u001B[1;32mIn [2], line 5\u001B[0m, in \u001B[0;36mmy_newton\u001B[1;34m(f, df, x0, tol)\u001B[0m\n\u001B[0;32m      3\u001B[0m     \u001B[38;5;28;01mreturn\u001B[39;00m x0\n\u001B[0;32m      4\u001B[0m \u001B[38;5;28;01melse\u001B[39;00m:\n\u001B[1;32m----> 5\u001B[0m     \u001B[38;5;28;01mreturn\u001B[39;00m \u001B[43mmy_newton\u001B[49m\u001B[43m(\u001B[49m\u001B[43mf\u001B[49m\u001B[43m,\u001B[49m\u001B[43mdf\u001B[49m\u001B[43m,\u001B[49m\u001B[43mx0\u001B[49m\u001B[43m \u001B[49m\u001B[38;5;241;43m-\u001B[39;49m\u001B[43m \u001B[49m\u001B[43mf\u001B[49m\u001B[43m(\u001B[49m\u001B[43mx0\u001B[49m\u001B[43m)\u001B[49m\u001B[38;5;241;43m/\u001B[39;49m\u001B[43mdf\u001B[49m\u001B[43m(\u001B[49m\u001B[43mx0\u001B[49m\u001B[43m)\u001B[49m\u001B[43m,\u001B[49m\u001B[43mtol\u001B[49m\u001B[43m)\u001B[49m\n",
      "Cell \u001B[1;32mIn [2], line 5\u001B[0m, in \u001B[0;36mmy_newton\u001B[1;34m(f, df, x0, tol)\u001B[0m\n\u001B[0;32m      3\u001B[0m     \u001B[38;5;28;01mreturn\u001B[39;00m x0\n\u001B[0;32m      4\u001B[0m \u001B[38;5;28;01melse\u001B[39;00m:\n\u001B[1;32m----> 5\u001B[0m     \u001B[38;5;28;01mreturn\u001B[39;00m \u001B[43mmy_newton\u001B[49m\u001B[43m(\u001B[49m\u001B[43mf\u001B[49m\u001B[43m,\u001B[49m\u001B[43mdf\u001B[49m\u001B[43m,\u001B[49m\u001B[43mx0\u001B[49m\u001B[43m \u001B[49m\u001B[38;5;241;43m-\u001B[39;49m\u001B[43m \u001B[49m\u001B[43mf\u001B[49m\u001B[43m(\u001B[49m\u001B[43mx0\u001B[49m\u001B[43m)\u001B[49m\u001B[38;5;241;43m/\u001B[39;49m\u001B[43mdf\u001B[49m\u001B[43m(\u001B[49m\u001B[43mx0\u001B[49m\u001B[43m)\u001B[49m\u001B[43m,\u001B[49m\u001B[43mtol\u001B[49m\u001B[43m)\u001B[49m\n",
      "    \u001B[1;31m[... skipping similar frames: my_newton at line 5 (1028 times)]\u001B[0m\n",
      "Cell \u001B[1;32mIn [2], line 5\u001B[0m, in \u001B[0;36mmy_newton\u001B[1;34m(f, df, x0, tol)\u001B[0m\n\u001B[0;32m      3\u001B[0m     \u001B[38;5;28;01mreturn\u001B[39;00m x0\n\u001B[0;32m      4\u001B[0m \u001B[38;5;28;01melse\u001B[39;00m:\n\u001B[1;32m----> 5\u001B[0m     \u001B[38;5;28;01mreturn\u001B[39;00m \u001B[43mmy_newton\u001B[49m\u001B[43m(\u001B[49m\u001B[43mf\u001B[49m\u001B[43m,\u001B[49m\u001B[43mdf\u001B[49m\u001B[43m,\u001B[49m\u001B[43mx0\u001B[49m\u001B[43m \u001B[49m\u001B[38;5;241;43m-\u001B[39;49m\u001B[43m \u001B[49m\u001B[43mf\u001B[49m\u001B[43m(\u001B[49m\u001B[43mx0\u001B[49m\u001B[43m)\u001B[49m\u001B[38;5;241;43m/\u001B[39;49m\u001B[43mdf\u001B[49m\u001B[43m(\u001B[49m\u001B[43mx0\u001B[49m\u001B[43m)\u001B[49m\u001B[43m,\u001B[49m\u001B[43mtol\u001B[49m\u001B[43m)\u001B[49m\n",
      "Cell \u001B[1;32mIn [2], line 2\u001B[0m, in \u001B[0;36mmy_newton\u001B[1;34m(f, df, x0, tol)\u001B[0m\n\u001B[0;32m      1\u001B[0m \u001B[38;5;28;01mdef\u001B[39;00m \u001B[38;5;21mmy_newton\u001B[39m(f,df,x0,tol):\n\u001B[1;32m----> 2\u001B[0m     \u001B[38;5;28;01mif\u001B[39;00m \u001B[38;5;28mabs\u001B[39m(\u001B[43mf\u001B[49m\u001B[43m(\u001B[49m\u001B[43mx0\u001B[49m\u001B[43m)\u001B[49m)\u001B[38;5;241m<\u001B[39mtol:\n\u001B[0;32m      3\u001B[0m         \u001B[38;5;28;01mreturn\u001B[39;00m x0\n\u001B[0;32m      4\u001B[0m     \u001B[38;5;28;01melse\u001B[39;00m:\n",
      "Cell \u001B[1;32mIn [4], line 1\u001B[0m, in \u001B[0;36m<lambda>\u001B[1;34m(x)\u001B[0m\n\u001B[1;32m----> 1\u001B[0m f \u001B[38;5;241m=\u001B[39m \u001B[38;5;28;01mlambda\u001B[39;00m x: \u001B[43mx\u001B[49m\u001B[38;5;241;43m*\u001B[39;49m\u001B[38;5;241;43m*\u001B[39;49m\u001B[43m(\u001B[49m\u001B[38;5;241;43m1\u001B[39;49m\u001B[38;5;241;43m/\u001B[39;49m\u001B[38;5;241;43m3\u001B[39;49m\u001B[43m)\u001B[49m\n\u001B[0;32m      2\u001B[0m f_prime \u001B[38;5;241m=\u001B[39m \u001B[38;5;28;01mlambda\u001B[39;00m x: (\u001B[38;5;241m1\u001B[39m\u001B[38;5;241m/\u001B[39m\u001B[38;5;241m3\u001B[39m)\u001B[38;5;241m*\u001B[39mx\u001B[38;5;241m*\u001B[39m\u001B[38;5;241m*\u001B[39m(\u001B[38;5;241m-\u001B[39m\u001B[38;5;241m2\u001B[39m\u001B[38;5;241m/\u001B[39m\u001B[38;5;241m3\u001B[39m)\n\u001B[0;32m      3\u001B[0m x0 \u001B[38;5;241m=\u001B[39m \u001B[38;5;241m1e-2\u001B[39m\n",
      "\u001B[1;31mOverflowError\u001B[0m: complex exponentiation"
     ]
    }
   ],
   "source": [
    "f = lambda x: x**(1/3)\n",
    "f_prime = lambda x: (1/3)*x**(-2/3)\n",
    "x0 = 1e-2\n",
    "tol = 1e-6   \n",
    "root4 = my_newton(f, f_prime, x0, tol)\n",
    "print(\"La solución de la ecuación es igual a\", root4)"
   ]
  },
  {
   "cell_type": "code",
   "execution_count": null,
   "id": "5aba463a",
   "metadata": {},
   "outputs": [],
   "source": []
  },
  {
   "cell_type": "code",
   "execution_count": null,
   "id": "751f6267",
   "metadata": {},
   "outputs": [],
   "source": []
  }
 ],
 "metadata": {
  "kernelspec": {
   "display_name": "Python 3",
   "language": "python",
   "name": "python3"
  },
  "language_info": {
   "codemirror_mode": {
    "name": "ipython",
    "version": 3
   },
   "file_extension": ".py",
   "mimetype": "text/x-python",
   "name": "python",
   "nbconvert_exporter": "python",
   "pygments_lexer": "ipython3",
   "version": "3.7.10"
  }
 },
 "nbformat": 4,
 "nbformat_minor": 5
}
