{
 "cells": [
  {
   "cell_type": "code",
   "execution_count": 2,
   "id": "5cfa8f86",
   "metadata": {},
   "outputs": [],
   "source": [
    "import numpy as np\n",
    "import matplotlib.pyplot as plt\n",
    "from matplotlib.backends.backend_pdf import PdfPages"
   ]
  },
  {
   "cell_type": "code",
   "execution_count": 3,
   "id": "712bfc69",
   "metadata": {},
   "outputs": [],
   "source": [
    "def multipage(filename, figs=None,dpi=200):\n",
    "    pp=PdfPages(filename)\n",
    "    if figs is None:\n",
    "        figs=[plt.figure(n) for n in plt.get_fignums()]\n",
    "    for figs in figs:\n",
    "        fig.savefig(pp, format=\"pdf\")\n",
    "    pp.close"
   ]
  },
  {
   "cell_type": "code",
   "execution_count": 4,
   "id": "2188eb43",
   "metadata": {},
   "outputs": [],
   "source": [
    "def XYplot(x,y, xmin, xmax, xlab, ylab, fig_title, symbol_color, scale=True): \n",
    "    \n",
    "    #        import numpy as np\n",
    "\n",
    "    fig = plt.figure()  \n",
    "    fig.suptitle(fig_title, fontsize=12)\n",
    "    plt.plot(x, y,  symbol_color)\n",
    "    plt.xlim(xmin, xmax)\n",
    "    plt.xlabel(xlab)\n",
    "    plt.ylabel(ylab)\n",
    "    plt.grid(True)\n",
    "    if scale:\n",
    "        plt.xscale('log')\n",
    "    \n",
    "\n",
    "    return fig"
   ]
  },
  {
   "cell_type": "code",
   "execution_count": 5,
   "id": "d84ce021",
   "metadata": {},
   "outputs": [],
   "source": [
    "### Función tomada del código del doc Martín para graficar varias curvas en la misma figura\n",
    "def XYplot_profiles(nt, time, y_time, x_sec_min, x_sec_max, nx, xlab, ylab, fig_title, legend):\n",
    "    #print('Entre a XYplot_profiles')\n",
    "# These are the colors that will be used in the plot\n",
    "    color_sequence = ['#1f77b4', '#aec7e8', '#ff7f0e', '#ffbb78', '#2ca02c',\n",
    "                  '#98df8a', '#d62728', '#ff9896', '#9467bd', '#c5b0d5',\n",
    "                  '#8c564b', '#c49c94', '#e377c2', '#f7b6d2', '#7f7f7f',\n",
    "                  '#c7c7c7', '#bcbd22', '#dbdb8d', '#17becf', '#9edae5']\n",
    "\n",
    "\n",
    "    fig = plt.figure()  \n",
    "    fig.suptitle(fig_title, fontsize=12)\n",
    "    delta_x=(x_sec_max-x_sec_min)/nx\n",
    "    x_sec=np.multiply(range(0,nx+1,1),delta_x)\n",
    "    \n",
    "#    plt.subplots(1, 1, figsize=(12, 14))\n",
    "\n",
    "    plt.xlim(x_sec_min, x_sec_max)\n",
    "    plt.xlabel(xlab)\n",
    "    plt.ylabel(ylab)\n",
    "    \n",
    "    plt.grid(True) \n",
    "    yt=np.zeros(nx+1)\n",
    "\n",
    "    \n",
    "    for i in range(0,nt+1,1):\n",
    "            for j in range(0,nx+1,1):\n",
    "                yt[j]=y_time[i,j]\n",
    "            #subfig = fig.add_subplot(1,1,1)             \n",
    "            label = 't = ' + str(time[i])    \n",
    "            plt.plot(x_sec, yt,  color=color_sequence[i % 20], label=label) \n",
    "            if legend:\n",
    "               subfig.legend()           \n",
    "#            subfig.grid(True)\n",
    "\n",
    "#   plt.show(block=True)\n",
    "    #plt.show()\n",
    "    return fig "
   ]
  },
  {
   "cell_type": "code",
   "execution_count": 6,
   "id": "a9bb0ba6",
   "metadata": {},
   "outputs": [],
   "source": [
    "def compare(u, u_exact):      # user_action function\n",
    "        \"\"\"Compare exact and computed solution.\"\"\"\n",
    "        diff = u_exact - u\n",
    "        norm=LA.norm(diff,np.inf)\n",
    "        print('Global norm:', norm)  \n"
   ]
  }
 ],
 "metadata": {
  "kernelspec": {
   "display_name": "Python 3",
   "language": "python",
   "name": "python3"
  },
  "language_info": {
   "codemirror_mode": {
    "name": "ipython",
    "version": 3
   },
   "file_extension": ".py",
   "mimetype": "text/x-python",
   "name": "python",
   "nbconvert_exporter": "python",
   "pygments_lexer": "ipython3",
   "version": "3.8.8"
  }
 },
 "nbformat": 4,
 "nbformat_minor": 5
}
