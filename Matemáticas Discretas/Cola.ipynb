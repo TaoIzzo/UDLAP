{
 "cells": [
  {
   "cell_type": "code",
   "execution_count": 1,
   "id": "veterinary-basic",
   "metadata": {},
   "outputs": [],
   "source": [
    "def queue(cola,number):\n",
    "    tamaño=len(cola) # O(1)\n",
    "    if(tamaño<5): # O(1)\n",
    "        cola.append(number) # O(1)\n",
    "        return cola # O(1)\n",
    "    else:# O(1)\n",
    "        print(\"La cola esta llena\") # O(1)\n",
    "# O(1) x 6 = O(6)\n",
    "#La complejidad algoritmica es O(6) debido a que todo es constante \n",
    "    \n",
    "def dequeue(cola,number):\n",
    "    tamaño=len(cola) # O(1)\n",
    "    if(tamaño > 0): # O(1)\n",
    "        cola.pop(number) # O(n)\n",
    "        return cola # O(1)\n",
    "    else: # O(1)\n",
    "        print(\"La cola esta vacia\") # O(1)\n",
    "# O(1) x 5 + O(n) = O(5+n)\n",
    "# Ha diferencia, el pop tiene compejidad de O(n)\n",
    "\n",
    "def mostrarCola(cola):\n",
    "    tamaño=len(cola) # O(1)\n",
    "    if(tamaño==0): # O(1)\n",
    "        return print(\"La cola no tiene elementos\") # O(1)\n",
    "    else: # O(1)\n",
    "        print(\"Elementos de la cola\") # O(1)\n",
    "    for x in cola: # O(n)\n",
    "        print(x) # O(1)\n",
    "# O(1) x 6 + O(n) = O(6+n)\n",
    "# Similar al anterior For x in tiene complejidad O(n), las demas son constantes "
   ]
  },
  {
   "cell_type": "code",
   "execution_count": 2,
   "id": "romance-photographer",
   "metadata": {},
   "outputs": [
    {
     "name": "stdout",
     "output_type": "stream",
     "text": [
      "[1, 2, 3, 4]\n",
      "[2, 3, 4]\n",
      "Elementos de la cola\n",
      "2\n",
      "3\n",
      "4\n"
     ]
    }
   ],
   "source": [
    "cola=[1,2,3,4]\n",
    "print(cola)\n",
    "#seleccion de indice\n",
    "dequeue(cola,0)\n",
    "print(cola)\n",
    "mostrarCola(cola)"
   ]
  }
 ],
 "metadata": {
  "kernelspec": {
   "display_name": "Python 3 (ipykernel)",
   "language": "python",
   "name": "python3"
  },
  "language_info": {
   "codemirror_mode": {
    "name": "ipython",
    "version": 3
   },
   "file_extension": ".py",
   "mimetype": "text/x-python",
   "name": "python",
   "nbconvert_exporter": "python",
   "pygments_lexer": "ipython3",
   "version": "3.11.2"
  },
  "varInspector": {
   "cols": {
    "lenName": 16,
    "lenType": 16,
    "lenVar": 40
   },
   "kernels_config": {
    "python": {
     "delete_cmd_postfix": "",
     "delete_cmd_prefix": "del ",
     "library": "var_list.py",
     "varRefreshCmd": "print(var_dic_list())"
    },
    "r": {
     "delete_cmd_postfix": ") ",
     "delete_cmd_prefix": "rm(",
     "library": "var_list.r",
     "varRefreshCmd": "cat(var_dic_list()) "
    }
   },
   "types_to_exclude": [
    "module",
    "function",
    "builtin_function_or_method",
    "instance",
    "_Feature"
   ],
   "window_display": false
  }
 },
 "nbformat": 4,
 "nbformat_minor": 5
}
